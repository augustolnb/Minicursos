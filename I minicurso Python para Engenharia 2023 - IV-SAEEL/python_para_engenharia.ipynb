{
  "nbformat": 4,
  "nbformat_minor": 0,
  "metadata": {
    "colab": {
      "provenance": [],
      "collapsed_sections": [
        "DY8Qio4_AB2O",
        "XmOFGH2u5AwE",
        "X9bhCGXGkV28",
        "U2TGmUwaJjce",
        "mxYYAk0JFBTd"
      ]
    },
    "kernelspec": {
      "name": "python3",
      "display_name": "Python 3"
    },
    "language_info": {
      "name": "python"
    }
  },
  "cells": [
    {
      "cell_type": "markdown",
      "source": [
        "# **MINICURSO INTRODUÇÃO AO PYTHON E SUAS APLICAÇÕES NA ENGENHARIA**\n",
        "\n",
        "---\n",
        "\n",
        "\n",
        "## **IV SEMANA ACADÊMICA DE ENG. ELÉTRICA**\n"
      ],
      "metadata": {
        "id": "3r-AT5_NiuC3"
      }
    },
    {
      "cell_type": "markdown",
      "source": [
        "Links importantes:\n",
        "\n",
        "- https://jakevdp.github.io/WhirlwindTourOfPython/"
      ],
      "metadata": {
        "id": "Umxmj8DPWejD"
      }
    },
    {
      "cell_type": "code",
      "source": [],
      "metadata": {
        "id": "zIDv6gw626iU"
      },
      "execution_count": null,
      "outputs": []
    },
    {
      "cell_type": "markdown",
      "source": [
        "# **0) Importando bibliotecas**"
      ],
      "metadata": {
        "id": "DY8Qio4_AB2O"
      }
    },
    {
      "cell_type": "code",
      "source": [
        "# Pacotes que utilizaremos\n",
        "# math ==> operações matemáticas elementares\n",
        "# pandas ==> criação e manipulação dos dados, ideal para dados tabulares (matriciais)\n",
        "# numpy ==> criação e manipulação dos dados, ideal para dados numéricos. Numpy é mais eficiente, porém pandas tem mais recursos\n",
        "# matplotlib ==> pacote gráfico\n",
        "# seaborn ==> pacote gráfico\n",
        "\n",
        "import pandas as pd\n",
        "import numpy as np\n",
        "import math\n",
        "import matplotlib.pyplot as plt\n",
        "import seaborn"
      ],
      "metadata": {
        "id": "6Z3B4CkKl5BJ"
      },
      "execution_count": null,
      "outputs": []
    },
    {
      "cell_type": "markdown",
      "source": [
        "# **1) Operações Elementares e Estatísticas**"
      ],
      "metadata": {
        "id": "Yr9UJxlkj0z9"
      }
    },
    {
      "cell_type": "code",
      "source": [
        "# criando variáveis\n",
        "variavel = 'Bem-vindos ao Minicurso de Python'\n",
        "print(variavel + \"\\n Formatação funcionando\")\n",
        "variavel += \"\\n Formatação funcionando\"\n",
        "print('Olá, pessoal! ' + variavel + ', espero que tenhámos um minicurso muito proveitoso.')"
      ],
      "metadata": {
        "colab": {
          "base_uri": "https://localhost:8080/"
        },
        "id": "0gd5cxsFiEEQ",
        "outputId": "c126391f-6394-4fa2-f388-773f999775a2"
      },
      "execution_count": null,
      "outputs": [
        {
          "output_type": "stream",
          "name": "stdout",
          "text": [
            "Bem-vindos ao Minicurso de Python\n",
            " Formatação funcionando\n",
            "Olá, pessoal! Bem-vindos ao Minicurso de Python\n",
            " Formatação funcionando, espero que tenhámos um minicurso muito proveitoso.\n"
          ]
        }
      ]
    },
    {
      "cell_type": "code",
      "source": [
        "# criando variáveis\n",
        "nome = input(\"Entre com seu nome completo: \")\n",
        "idade = complex(input(\"Entre com sua idade: \"))\n",
        "print('Minicurso de Python.\\n\\nOlá, ' + nome + '.\\nVocê acabou de realizar uma entrada de dados.')"
      ],
      "metadata": {
        "colab": {
          "base_uri": "https://localhost:8080/"
        },
        "id": "mOnsORwc79fG",
        "outputId": "fbe564c9-bf34-49b3-b484-2eb89cd7c149"
      },
      "execution_count": null,
      "outputs": [
        {
          "output_type": "stream",
          "name": "stdout",
          "text": [
            "Entre com seu nome completo: lucas\n",
            "Entre com sua idade: 25\n",
            "Minicurso de Python.\n",
            "\n",
            "Olá, lucas.\n",
            "Você acabou de realizar uma entrada de dados.\n"
          ]
        }
      ]
    },
    {
      "cell_type": "code",
      "source": [
        "type(idade)"
      ],
      "metadata": {
        "colab": {
          "base_uri": "https://localhost:8080/"
        },
        "id": "KarT8Vqe7E34",
        "outputId": "f6d30f36-99d7-4763-eb8f-70945a21f419"
      },
      "execution_count": null,
      "outputs": [
        {
          "output_type": "execute_result",
          "data": {
            "text/plain": [
              "int"
            ]
          },
          "metadata": {},
          "execution_count": 14
        }
      ]
    },
    {
      "cell_type": "code",
      "source": [
        "# operacões matemáticas\n",
        "print('Soma simples: 1 + 1') \n",
        "print(1+1) #soma simples\n",
        "\n",
        "print('\\nSubtração simples: 10-5') \n",
        "print(10-5) #subtração simples\n",
        "\n",
        "print('\\nDivisão simples: 20/3') \n",
        "print(20/3) #divisão simples\n",
        "\n",
        "print('\\n')\n",
        "print('Divisão sem resto: 10/3')\n",
        "print(type(10//3))\n",
        "\n",
        "print('\\n')\n",
        "print('Multiplicação simples: 4*3') \n",
        "print(4*3), \"\\n\" #multiplicação simples\n",
        "\n",
        "print('\\n')\n",
        "print('Exponenciação: 2³')\n",
        "print(2**3)\n",
        "\n",
        "# pacote math\n",
        "print('\\n')\n",
        "print('Radiciação: √36')\n",
        "print(math.sqrt(36))\n",
        "\n",
        "print('\\n')\n",
        "print('Logarítmo natural: ln(2)')\n",
        "print(math.log(2))\n",
        "print(math.log(2, 10))\n"
      ],
      "metadata": {
        "id": "HutKeMJHim4n",
        "colab": {
          "base_uri": "https://localhost:8080/"
        },
        "outputId": "0a06dcb6-f387-4ca8-db7a-7f5d7bc685d1"
      },
      "execution_count": null,
      "outputs": [
        {
          "output_type": "stream",
          "name": "stdout",
          "text": [
            "Soma simples: 1 + 1\n",
            "2\n",
            "\n",
            "Subtração simples: 10-5\n",
            "5\n",
            "\n",
            "Divisão simples: 20/3\n",
            "6.666666666666667\n",
            "\n",
            "\n",
            "Divisão sem resto: 10/3\n",
            "<class 'int'>\n",
            "\n",
            "\n",
            "Multiplicação simples: 4*3\n",
            "12\n",
            "\n",
            "\n",
            "Exponenciação: 2³\n",
            "8\n",
            "\n",
            "\n",
            "Radiciação: √36\n",
            "6.0\n",
            "\n",
            "\n",
            "Logarítmo natural: ln(2)\n",
            "0.6931471805599453\n",
            "0.30102999566398114\n"
          ]
        }
      ]
    },
    {
      "cell_type": "code",
      "source": [
        "# Arredondar\n",
        "# round(x, n° de casas decimais)\n",
        "print(round(4/3, 2))\n",
        "\n",
        "# arredondar para maior valor\n",
        "x = 4.2\n",
        "print(math.ceil(x))\n",
        "print(math.ceil(np.mean([10,11]))) # cálcula a média entre os valores e arrendonda p/ o maior valor\n",
        "\n",
        "# arredondar para menor valor\n",
        "print(math.floor(x))"
      ],
      "metadata": {
        "colab": {
          "base_uri": "https://localhost:8080/"
        },
        "id": "x-63JII1kYPg",
        "outputId": "ac3801e4-e4b4-4555-b497-301f39d110de"
      },
      "execution_count": null,
      "outputs": [
        {
          "output_type": "stream",
          "name": "stdout",
          "text": [
            "1.33\n",
            "5\n",
            "11\n",
            "4\n"
          ]
        }
      ]
    },
    {
      "cell_type": "code",
      "source": [
        "# Ordenar\n",
        "a = [3,1,2,10,0]\n",
        "a.sort()                 # ordem crescente. Default é false, então não é necessário declarar.\n",
        "\n",
        "b = [3,1,2,10,0]\n",
        "b.sort(reverse = True)   # ordem decrescente. Necessário declarar.\n",
        "\n",
        "print(a)\n",
        "print(b) "
      ],
      "metadata": {
        "colab": {
          "base_uri": "https://localhost:8080/"
        },
        "id": "VGaBCIXdlYa1",
        "outputId": "f1c7be5d-2b03-4dd0-abd6-360acd3a70a6"
      },
      "execution_count": null,
      "outputs": [
        {
          "output_type": "stream",
          "name": "stdout",
          "text": [
            "[0, 1, 2, 3, 10]\n",
            "[10, 3, 2, 1, 0]\n"
          ]
        }
      ]
    },
    {
      "cell_type": "code",
      "source": [
        "# Exemplo: cálculo IMC\n",
        "peso =      #  código aqui\n",
        "altura = 1.65   # código aqui\n",
        "\n",
        "IMC = peso/(altura**2)\n",
        "IMC = round(IMC,2)\n",
        "\n",
        "print(IMC)"
      ],
      "metadata": {
        "colab": {
          "base_uri": "https://localhost:8080/"
        },
        "id": "2Ml9eJfGK9_y",
        "outputId": "5f81d31e-b76e-4f12-fb14-2e464f12e66a"
      },
      "execution_count": null,
      "outputs": [
        {
          "output_type": "stream",
          "name": "stdout",
          "text": [
            "29.02\n"
          ]
        }
      ]
    },
    {
      "cell_type": "code",
      "source": [
        "# Operações Estatísticas\n",
        "# Utilizaremos o pacote numpy para realizar os cálculos elementares\n",
        "\n",
        "# contagem simples\n",
        "print('Count:', len([2, 5, 7, 10]))\n",
        "\n",
        "# média \n",
        "print('Média:', np.mean([2, 5, 7, 10])) # [2,5,7,10] refere-se à lista de números a serem avaliados\n",
        "print(np.mean([2, 5, 7, np.NaN])) # Na presença de missing, não vai rodar\n",
        "print(np.nanmean([2,5,7, np.NaN]))\n",
        "\n",
        "# mediana\n",
        "print('Mediana:', np.median([2, 5, 7, 10]))\n",
        "\n",
        "# desvio padrão\n",
        "print('Desvio-padrão:', np.std([2, 5, 7, 10]))\n",
        "\n",
        "# variância\n",
        "print('Variância', np.var([2, 5, 7, 10]))\n",
        "\n",
        "# quantis\n",
        "print(np.quantile([2, 5, 7, 10], q = 0.25), np.quantile([2, 5, 7, 10], q = 0.5),\n",
        "      np.quantile([2, 5,7, 10], q = 0.75), np.quantile([2, 5, 7, 10], q = 1))"
      ],
      "metadata": {
        "colab": {
          "base_uri": "https://localhost:8080/"
        },
        "id": "5jQgHTdgqY3v",
        "outputId": "f1111be8-ab97-4da4-e4ff-a0b760d5c3c6"
      },
      "execution_count": null,
      "outputs": [
        {
          "output_type": "stream",
          "name": "stdout",
          "text": [
            "Count: 4\n",
            "Média: 6.0\n",
            "nan\n",
            "4.666666666666667\n",
            "Mediana: 6.0\n",
            "Desvio-padrão: 2.9154759474226504\n",
            "Variância 8.5\n",
            "4.25 6.0 7.75 10\n"
          ]
        }
      ]
    },
    {
      "cell_type": "code",
      "source": [
        "# pacote no pandas para realizar resumo semelhante ao summary() da linguagem R\n",
        "a = pd.Series([2,5,7,10])\n",
        "display(a)\n",
        "#a.describe()"
      ],
      "metadata": {
        "colab": {
          "base_uri": "https://localhost:8080/",
          "height": 104
        },
        "id": "0JYs18fk1AMv",
        "outputId": "857c5e1e-80b7-4a98-b287-43e1890ede88"
      },
      "execution_count": null,
      "outputs": [
        {
          "output_type": "display_data",
          "data": {
            "text/plain": [
              "0     2\n",
              "1     5\n",
              "2     7\n",
              "3    10\n",
              "dtype: int64"
            ]
          },
          "metadata": {}
        }
      ]
    },
    {
      "cell_type": "markdown",
      "source": [
        "# **2) Operadores Lógicos e Comparativos**"
      ],
      "metadata": {
        "id": "dsJ7UexvPERN"
      }
    },
    {
      "cell_type": "code",
      "source": [
        "# declarando variáveis\n",
        "a = 3\n",
        "b = 6\n",
        "\n",
        "print('A é igual a b:', a == b) # igualdade deve ser acompanhada por dois sinais de =\n",
        "print('\\n')\n",
        "print('A é diferente de b:', a != b) # equivalente a 'diferente de'.\n",
        "print('\\n')\n",
        "print('A é maior que b:', a > b) # maior\n",
        "print('\\n')\n",
        "print('A é maior ou igual a b:', a >= b) # maior ou igual\n",
        "print('\\n')\n",
        "print('A é menor que b:', a < b) # menor\n",
        "print('\\n')\n",
        "print('A é menor ou igual a b:', a <= b) # menor ou igual\n",
        "\n",
        "print('\\n')\n",
        "print('2 x A é igual a b:', 2*a == b)"
      ],
      "metadata": {
        "id": "N1jvhZi2O9jC"
      },
      "execution_count": null,
      "outputs": []
    },
    {
      "cell_type": "markdown",
      "source": [
        "# **3) Tipos de Variáves e Tipos de Dados**\n"
      ],
      "metadata": {
        "id": "XmOFGH2u5AwE"
      }
    },
    {
      "cell_type": "markdown",
      "source": [
        "Documentação oficial: \n",
        "* <https://docs.python.org/pt-br/dev/tutorial/datastructures.html>\n"
      ],
      "metadata": {
        "id": "laaem93SLA5t"
      }
    },
    {
      "cell_type": "code",
      "source": [
        "# list  ==> Pode ser definida como :\n",
        "#           nome_lista = list()\n",
        "#           lista_2 = ['conteudo', 'da', 'lista']\n",
        "# Comporta dados heterogêneos que são armazenados em um \"vetor\"\n",
        "# O conteúdo é indexado por valores de posição (numº inteiros de 0 a \"\"\"\"infinito\"\"\"\")\n",
        "\n",
        "lista = [1,2,3,4,5]\n",
        "print('Esta é uma lista:', lista)\n",
        "\n",
        "lista_2 = [1,2,3,4,5, 'a', 'b','c','d','e']\n",
        "print('Esta é uma lista mista:', lista_2)\n",
        "\n",
        "# tuple ==> Pode ser declarada como:\n",
        "#           nome_tupla = tuple()\n",
        "#           tupla_2 = ('conteudo', 'da', 'tupla')\n",
        "# dados heterogêneos armazenados em um \"vetor\"\n",
        "# Os valores declarados são constantes\n",
        "# A indexação é semalhante a das listas\n",
        "\n",
        "tupla = (1,2,3,4,5)\n",
        "print('Esta é uma tupla:', tupla)\n",
        "\n",
        "tupla_2 = (1,2,3,4,5,'a', 'b','c','d','e')\n",
        "print('Esta é uma tupla mista:', tupla_2)\n",
        "\n",
        "# dictionary ==> São declarados da seguinte forma:\n",
        "#                nome_dict = dict()\n",
        "#                dict_2 = {}\n",
        "# Não é possível indexar com chaves idênticas\n",
        "# O conteúdo é ordenado\n",
        "\n",
        "dicionario = {'variavel1': [1,2,3,4,5,6,7,8,9,10],\n",
        "              'variavel2': [1.1, 0.2, 2.1, 3.4, 4.5, 10.1, 12.6, 7.4, 8.5, 10],\n",
        "              'variavel3': ['a','b','c','d','e','f','g','h','i','j']}\n",
        "\n",
        "print('Este é um dicionario:', dicionario)"
      ],
      "metadata": {
        "colab": {
          "base_uri": "https://localhost:8080/"
        },
        "id": "o_mlCtIIENdj",
        "outputId": "a0503f5f-cf03-4409-e5ea-f5b25e272a1f"
      },
      "execution_count": null,
      "outputs": [
        {
          "output_type": "stream",
          "name": "stdout",
          "text": [
            "Esta é uma lista: [1, 2, 3, 4, 5]\n",
            "Esta é uma lista mista: [1, 2, 3, 4, 5, 'a', 'b', 'c', 'd', 'e']\n",
            "Esta é uma tupla: (1, 2, 3, 4, 5)\n",
            "Esta é uma tupla mista: (1, 2, 3, 4, 5, 'a', 'b', 'c', 'd', 'e')\n",
            "Este é um dicionario: {'variavel1': [1, 2, 3, 4, 5, 6, 7, 8, 9, 10], 'variavel2': [1.1, 0.2, 2.1, 3.4, 4.5, 10.1, 12.6, 7.4, 8.5, 10], 'variavel3': ['a', 'b', 'c', 'd', 'e', 'f', 'g', 'h', 'i', 'j']}\n"
          ]
        }
      ]
    },
    {
      "cell_type": "code",
      "source": [
        "# Entrando com os valores numéricos\n",
        "num_1 = input(\"Informe o primeiro valor: \")\n",
        "num_2 = input(\"Informe o segundo valor: \")\n",
        "\n",
        "print('Soma: {}'.format(num_1+num_2))\n",
        "print('Subtração: {}'.format(num_1-num_2))\n",
        "print('Multiplicação: {}'.format(num_1*num_2))\n",
        "print('Divisão: {}'.format(num_1/num_2))\n",
        "\n",
        "# Os valores estão corretos ???"
      ],
      "metadata": {
        "id": "rE0XvWcYXEHa"
      },
      "execution_count": null,
      "outputs": []
    },
    {
      "cell_type": "code",
      "source": [
        "# Realizando operações com listas\n",
        "\n",
        "# Cria uma lista sem nenhum elemento.\n",
        "# A expressão lista_vazia = list() possui o mesmo efeito.\n",
        "alunos = []\n",
        "print(\"Lista vazia: \", alunos)\n",
        "print(\"Tipo de uma lista: \", type(alunos))\n",
        "print(\"\\n\\t----\\n\")\n",
        "\n",
        "alunos = [10, 20, 30, 40]\n",
        "print(\"Lista de inteiros: \", alunos)\n",
        "\n",
        "autores_do_coracao = [\"James Stewart\", 2013, 'Stephen J. Chapman', 2013, 'Del toro', 1990, 'William Hart Hayt Jr', 2013] # forma de declaração de lista\n",
        "# Entre ''' se define um comentário de múltiplas linhas, tudo entre as ''' será ignorado pelo interpretador\n",
        "''' \n",
        "autores_do_coracao = [\"James Stewart\", 2013,            # forma alternativa de declara lista. + organizado\n",
        "                     'Stephen J. Chapman', 2013,\n",
        "                     'Del toro', 1990,\n",
        "                     'William Hart Hayt Jr', 2013] \n",
        "'''\n",
        "print(\"Lista de elementos com tipos diferentes: {}\".format(autores_do_coracao))\n",
        "# dataframe pandas?\n",
        "# display(autores_do_coracao)\n",
        "\n",
        "print('\\n')\n",
        "print(type(autores_do_coracao))\n",
        "print('\\n')\n",
        "\n",
        "mais_um_autor = input(\"\\nQual o seu autor do coração?\\n->  \")\n",
        "mais_um_ano = input(\"\\nQual o ano de publicação da ultima edição?\\n->  \")\n",
        "autores_do_coracao.append(mais_um_autor)\n",
        "autores_do_coracao.append(mais_um_ano)\n",
        "print(\"\\nLista atualizada: {}\".format(autores_do_coracao))\n",
        "\n",
        "# Outra forma de adicionar dados em uma lista\n",
        "autores_do_coracao.append(input(\"\\nQual o seu autor do coração?\\n->\"))\n",
        "autores_do_coracao.append(input(\"\\nQual o ano de publicação da ultima edição?\\n->  \"))\n",
        "print(\"\\nLista atualizada: {}\".format(autores_do_coracao))\n",
        "\n",
        "# MÉTODOS EXTEND E INSERT"
      ],
      "metadata": {
        "id": "XZpKPzH_dUzx"
      },
      "execution_count": null,
      "outputs": []
    },
    {
      "cell_type": "code",
      "source": [
        "import pandas as pd\n",
        "# Vamos organizar a lista para poder apresentá-la de forma mais agradável\n",
        "\n",
        "for i in autores_do_coracao:\n",
        "    print(i)"
      ],
      "metadata": {
        "id": "jM_gbJ0k9jkc"
      },
      "execution_count": null,
      "outputs": []
    },
    {
      "cell_type": "code",
      "source": [
        "data = []\n",
        "for i in range(len(autores_do_coracao)):\n",
        "    if(i % 2 == 0):\n",
        "        data.append([i,i+1])\n",
        "    else:\n",
        "        continue\n",
        "\n",
        "print(data)"
      ],
      "metadata": {
        "colab": {
          "base_uri": "https://localhost:8080/"
        },
        "id": "HRw0e9eO-DI7",
        "outputId": "4f2e6945-4e5f-449f-a77a-9e1e62e0bd3f"
      },
      "execution_count": null,
      "outputs": [
        {
          "output_type": "stream",
          "name": "stdout",
          "text": [
            "[[0, 1], [2, 3], [4, 5], [6, 7], [8, 9], [10, 11]]\n"
          ]
        }
      ]
    },
    {
      "cell_type": "code",
      "source": [
        "data = []\n",
        "for i in range(len(autores_do_coracao)):\n",
        "    if(i % 2 == 0):\n",
        "        data.append([autores_do_coracao[i],autores_do_coracao[i+1]])\n",
        "    else:\n",
        "        continue\n",
        "\n",
        "print(\"Usando print:\\n\")\n",
        "print(data)\n",
        "print(\"\\nUsando display:\\n\")\n",
        "display(data)\n",
        "\n",
        "df = pd.DataFrame(data, columns=['Autor', 'Última Edição'])\n",
        "\n",
        "print(\"\\n\\nImprimindo na forma de DataFrame\")\n",
        "print(\"\\nUsando print:\\n\")\n",
        "print(df)\n",
        "\n",
        "print(\"\\nUsando display:\\n\")\n",
        "display(df)"
      ],
      "metadata": {
        "id": "1z0xXGqgApML"
      },
      "execution_count": null,
      "outputs": []
    },
    {
      "cell_type": "markdown",
      "source": [
        "# **4) Controle de fluxo e Funções**"
      ],
      "metadata": {
        "id": "JGVGR_igPhZO"
      }
    },
    {
      "cell_type": "markdown",
      "source": [
        "Documentação oficial: \n",
        "* <https://docs.python.org/pt-br/3/tutorial/controlflow.html>\n",
        "\n",
        "* <https://docs.python.org/pt-br/3/reference/compound_stmts.html#while>\n",
        "\n"
      ],
      "metadata": {
        "id": "UcuzHp4rZXew"
      }
    },
    {
      "cell_type": "markdown",
      "source": [
        "###Controle de fluxo"
      ],
      "metadata": {
        "id": "MLFBATjglTzF"
      }
    },
    {
      "cell_type": "code",
      "source": [
        "a =   float(input(\"Valor de a:\")) # Entre com os dados aqui\n",
        "b =   float(input(\"Valor de b:\"))  # Entre com os dados aqui\n",
        "\n",
        "if(a > b):\n",
        "    print('a é maior do que b.')\n",
        "    \n",
        "else:\n",
        "    print('b é maior do que a.')"
      ],
      "metadata": {
        "id": "20hORoTNPgh4",
        "colab": {
          "base_uri": "https://localhost:8080/"
        },
        "outputId": "20d1f92f-7f6a-477a-f1af-0544696a71c7"
      },
      "execution_count": null,
      "outputs": [
        {
          "output_type": "stream",
          "name": "stdout",
          "text": [
            "Valor de a:2\n",
            "Valor de b:2\n",
            "b é maior do que a.\n"
          ]
        }
      ]
    },
    {
      "cell_type": "code",
      "source": [
        "# mais de uma condição\n",
        "if (a > b):\n",
        "  print('a é maior do que b. O valor de a é:', a)\n",
        "elif a < b:\n",
        "  print('b é maior do que a. O valor de b é:', b)\n",
        "else:\n",
        "  print('a e b são iguais. Seus valores são:', a)"
      ],
      "metadata": {
        "id": "jXukztEBSjsu",
        "colab": {
          "base_uri": "https://localhost:8080/"
        },
        "outputId": "3cc9f63a-7f2c-43cc-8a8d-ac50ee94d6d5"
      },
      "execution_count": null,
      "outputs": [
        {
          "output_type": "stream",
          "name": "stdout",
          "text": [
            "a e b são iguais. Seus valores são: 2.0\n"
          ]
        }
      ]
    },
    {
      "cell_type": "code",
      "source": [
        "# Laço de repetição for \n",
        "#\n",
        "#   for x in [1, 3, 5, 7, 9, 10, 11, 13]:\n",
        "#    \tif x % 2 == 0:\n",
        "#    \t\tprint('Tem um número par na lista!')\n",
        "#            break\n",
        "#\n",
        "\n",
        "\n",
        "lista = [2, 101, 8, 33, 14, 21, 41, 78, 64, 32, 100.5 , 36]\n",
        "#lista = [ \"32\", \"36\"]\n",
        "\n",
        "qte_itens = len(lista)\n",
        "print(\"Quantidade de itens na lista: \" + str(qte_itens) + \"\\n\")\n",
        "# print(\"Quantidade de itens na lista: {}\\n\".format(qte_itens))\n",
        "# Percorrendo uma lista com a função range\n",
        "'''\n",
        "for i in range(len(lista)):\n",
        "    print(lista[i])\n",
        "\n",
        "print('\\n\\n')\n",
        "# Crie a sua própria lista e teste com o novos valores\n",
        "# Percorrendo a lista de forma direta com um objeto iterador\n",
        "\n",
        "for individuos in lista:\n",
        "   print(individuos)\n",
        "'''"
      ],
      "metadata": {
        "id": "QR6VwYbNS7bn",
        "colab": {
          "base_uri": "https://localhost:8080/",
          "height": 105
        },
        "outputId": "d8695c08-955d-470e-c8c0-4016ffdbb14b"
      },
      "execution_count": null,
      "outputs": [
        {
          "output_type": "stream",
          "name": "stdout",
          "text": [
            "Quantidade de itens na lista: 12\n",
            "\n"
          ]
        },
        {
          "output_type": "execute_result",
          "data": {
            "text/plain": [
              "\"\\nfor i in range(len(lista)):\\n    print(lista[i])\\n\\nprint('\\n\\n')\\n# Crie a sua própria lista e teste com o novos valores\\n# Percorrendo a lista de forma direta com um objeto iterador\\n\\nfor individuos in lista:\\n   print(individuos)\\n\""
            ],
            "application/vnd.google.colaboratory.intrinsic+json": {
              "type": "string"
            }
          },
          "metadata": {},
          "execution_count": 72
        }
      ]
    },
    {
      "cell_type": "code",
      "source": [
        "#print(type(float(lista[10])))\n",
        "print(lista[10])\n"
      ],
      "metadata": {
        "colab": {
          "base_uri": "https://localhost:8080/"
        },
        "id": "bkRZTGVTDM-M",
        "outputId": "58ff5175-1f5b-49e8-be6f-77eac80cc60c"
      },
      "execution_count": null,
      "outputs": [
        {
          "output_type": "stream",
          "name": "stdout",
          "text": [
            "['100.5', 36]\n"
          ]
        }
      ]
    },
    {
      "cell_type": "code",
      "source": [
        "lista = []\n",
        "lista = list()\n"
      ],
      "metadata": {
        "id": "yu0JEdCkDrpv"
      },
      "execution_count": null,
      "outputs": []
    },
    {
      "cell_type": "code",
      "source": [
        "print(lista)\n",
        "print(lista[0])\n",
        "print(lista[1])\n",
        "print(lista[2])\n",
        "print(lista[3])\n",
        "print(lista[4])"
      ],
      "metadata": {
        "id": "VnaYpm1EW5xU",
        "colab": {
          "base_uri": "https://localhost:8080/"
        },
        "outputId": "e73006bc-387f-4b29-ee8d-fe27408ec964"
      },
      "execution_count": null,
      "outputs": [
        {
          "output_type": "stream",
          "name": "stdout",
          "text": [
            "[2, 101, 8, 33, 14, 21, 41, 78, 64, 32, ['100.5', 36]]\n",
            "2\n",
            "101\n",
            "8\n",
            "33\n",
            "14\n"
          ]
        }
      ]
    },
    {
      "cell_type": "code",
      "source": [
        "# for loop e if else\n",
        "\n",
        "for valor in lista:\n",
        "  lista.sort()\n",
        "\n",
        "  if valor <= 10:\n",
        "    print(valor, 'é menor ou igual a 10.')\n",
        "  elif (valor > 10 and valor <= 20):\n",
        "    print(valor, 'está entre 11 e 20.')\n",
        "  elif (valor > 20) or (valor<= 30):\n",
        "    print(valor, 'está entre 21 e 30.')\n",
        "\n",
        "  elif (valor > 30) & (valor<= 40): print(valor, 'está entre 31 e 40.')\n",
        "  elif (valor > 40) & (valor<= 50): print(valor, 'está entre 41 e 50.')\n",
        "  else: print(valor, 'está acima de 50.')"
      ],
      "metadata": {
        "id": "7dGWmxKUTR_O",
        "colab": {
          "base_uri": "https://localhost:8080/",
          "height": 235
        },
        "outputId": "48e1debb-4015-45ba-de14-b2b7595251fd"
      },
      "execution_count": null,
      "outputs": [
        {
          "output_type": "error",
          "ename": "TypeError",
          "evalue": "ignored",
          "traceback": [
            "\u001b[0;31m---------------------------------------------------------------------------\u001b[0m",
            "\u001b[0;31mTypeError\u001b[0m                                 Traceback (most recent call last)",
            "\u001b[0;32m<ipython-input-64-32b8db64a0ff>\u001b[0m in \u001b[0;36m<cell line: 3>\u001b[0;34m()\u001b[0m\n\u001b[1;32m      3\u001b[0m \u001b[0;32mfor\u001b[0m \u001b[0mvalor\u001b[0m \u001b[0;32min\u001b[0m \u001b[0mlista\u001b[0m\u001b[0;34m:\u001b[0m\u001b[0;34m\u001b[0m\u001b[0;34m\u001b[0m\u001b[0m\n\u001b[1;32m      4\u001b[0m   \u001b[0mlista\u001b[0m\u001b[0;34m.\u001b[0m\u001b[0msort\u001b[0m\u001b[0;34m(\u001b[0m\u001b[0;34m)\u001b[0m\u001b[0;34m\u001b[0m\u001b[0;34m\u001b[0m\u001b[0m\n\u001b[0;32m----> 5\u001b[0;31m   \u001b[0;32mif\u001b[0m \u001b[0mvalor\u001b[0m \u001b[0;34m<=\u001b[0m \u001b[0;36m10\u001b[0m\u001b[0;34m:\u001b[0m\u001b[0;34m\u001b[0m\u001b[0;34m\u001b[0m\u001b[0m\n\u001b[0m\u001b[1;32m      6\u001b[0m     \u001b[0mprint\u001b[0m\u001b[0;34m(\u001b[0m\u001b[0mvalor\u001b[0m\u001b[0;34m,\u001b[0m \u001b[0;34m'é menor ou igual a 10.'\u001b[0m\u001b[0;34m)\u001b[0m\u001b[0;34m\u001b[0m\u001b[0;34m\u001b[0m\u001b[0m\n\u001b[1;32m      7\u001b[0m   \u001b[0;32melif\u001b[0m \u001b[0;34m(\u001b[0m\u001b[0mvalor\u001b[0m \u001b[0;34m>\u001b[0m \u001b[0;36m10\u001b[0m\u001b[0;34m)\u001b[0m \u001b[0;34m&\u001b[0m \u001b[0;34m(\u001b[0m\u001b[0mvalor\u001b[0m \u001b[0;34m<=\u001b[0m \u001b[0;36m20\u001b[0m\u001b[0;34m)\u001b[0m\u001b[0;34m:\u001b[0m\u001b[0;34m\u001b[0m\u001b[0;34m\u001b[0m\u001b[0m\n",
            "\u001b[0;31mTypeError\u001b[0m: '<=' not supported between instances of 'str' and 'int'"
          ]
        }
      ]
    },
    {
      "cell_type": "code",
      "source": [
        "print(lista.sort())\n",
        "print(lista)\n",
        "str(lista)\n",
        "print(lista.sort())\n",
        "print(type(lista))\n"
      ],
      "metadata": {
        "colab": {
          "base_uri": "https://localhost:8080/"
        },
        "id": "WYGWGVMLG0Iz",
        "outputId": "d8e9c43f-2c12-4f1b-a8c4-dc603215c0b4"
      },
      "execution_count": null,
      "outputs": [
        {
          "output_type": "stream",
          "name": "stdout",
          "text": [
            "None\n",
            "[2, 8, 14, 21, 32, 33, 36, 41, 64, 78, 100.5, 101]\n",
            "None\n",
            "<class 'list'>\n"
          ]
        }
      ]
    },
    {
      "cell_type": "code",
      "source": [
        "print(\"\\tExemplo de contador com o laço while\\n\")\n",
        "\n",
        "iteracoes = input(\"Digite a quatidade de iterações que deseja fazer: \")\n",
        "\n",
        "i = 0\n",
        "while i <= iteracoes:\n",
        "    print(\"{}ª Iteração\".format(iteracoes))\n",
        "    i += 1\n",
        "    if(iteracoes > 20):\n",
        "        print(\"Pra que isso tudo meu jovem?\")\n",
        "    elif(i 10):\n",
        "        print(\"Saindo do laço de repetição\")\n",
        "        break"
      ],
      "metadata": {
        "id": "gj2HjHAbamrL"
      },
      "execution_count": null,
      "outputs": []
    },
    {
      "cell_type": "code",
      "source": [
        "print(\"\\tCriando o primeiro laço for\\n\")\n",
        "\n",
        "iteracoes = int(input(\"Quantas iteracoes o laço deve realizar?\"))\n",
        "\n",
        "for i in range(iteracoes):\n",
        "    print(\"Funcionou {}x\".format(i))\n",
        "    if(i > 10):\n",
        "        #continue\n",
        "        print(\"Valor de i é maior que 10\")\n",
        "    if(i > 20):\n",
        "        print('i é maior que 20, saia do laço')\n",
        "        break"
      ],
      "metadata": {
        "id": "Rp50r59ZboLH",
        "colab": {
          "base_uri": "https://localhost:8080/"
        },
        "outputId": "0e73e6e1-6638-46a2-90e1-cf1e715e305a"
      },
      "execution_count": null,
      "outputs": [
        {
          "output_type": "stream",
          "name": "stdout",
          "text": [
            "\tCriando o primeiro laço for\n",
            "\n",
            "Quantas iteracoes o laço deve realizar?25\n",
            "Funcionou 0x\n",
            "Funcionou 1x\n",
            "Funcionou 2x\n",
            "Funcionou 3x\n",
            "Funcionou 4x\n",
            "Funcionou 5x\n",
            "Funcionou 6x\n",
            "Funcionou 7x\n",
            "Funcionou 8x\n",
            "Funcionou 9x\n",
            "Funcionou 10x\n",
            "Funcionou 11x\n",
            "Valor de i é maior que 10\n",
            "Funcionou 12x\n",
            "Valor de i é maior que 10\n",
            "Funcionou 13x\n",
            "Valor de i é maior que 10\n",
            "Funcionou 14x\n",
            "Valor de i é maior que 10\n",
            "Funcionou 15x\n",
            "Valor de i é maior que 10\n",
            "Funcionou 16x\n",
            "Valor de i é maior que 10\n",
            "Funcionou 17x\n",
            "Valor de i é maior que 10\n",
            "Funcionou 18x\n",
            "Valor de i é maior que 10\n",
            "Funcionou 19x\n",
            "Valor de i é maior que 10\n",
            "Funcionou 20x\n",
            "Valor de i é maior que 10\n",
            "Funcionou 21x\n",
            "Valor de i é maior que 10\n",
            "i é maior que 20, saia do laço\n"
          ]
        }
      ]
    },
    {
      "cell_type": "code",
      "source": [
        "lista1 = ['matheus', 'solo', 'lucas', 'euzilan', \"kayo\"]\n",
        "\n",
        "lista = [] # lista\n",
        "tupla0 = () # tupla\n",
        "dicionario = {} # dicionario\n",
        "\n",
        "tupla = ('matheus', 'solo', \"lucas\")\n",
        "\n",
        "for i in range(len(lista1)):\n",
        "    print(i)\n",
        "\n",
        "del(tupla, tupla0)"
      ],
      "metadata": {
        "id": "-ctBjmWORes2"
      },
      "execution_count": null,
      "outputs": []
    },
    {
      "cell_type": "code",
      "source": [
        "print(range(iteracoes))"
      ],
      "metadata": {
        "colab": {
          "base_uri": "https://localhost:8080/"
        },
        "id": "qD7s0pt7JeVt",
        "outputId": "74ab3b74-47ff-4331-c673-cad330e69359"
      },
      "execution_count": null,
      "outputs": [
        {
          "output_type": "stream",
          "name": "stdout",
          "text": [
            "range(0, 10)\n"
          ]
        }
      ]
    },
    {
      "cell_type": "markdown",
      "source": [
        "###Funções"
      ],
      "metadata": {
        "id": "008to2CXlWSw"
      }
    },
    {
      "cell_type": "code",
      "source": [
        "# Funções\n",
        "# exemplo de função no python para cálculo do IMC\n",
        "\n",
        "def IMC(peso, altura):\n",
        "  return (round(peso/(altura**2), 2))\n",
        "\n",
        "IMC(80, 1.70)\n"
      ],
      "metadata": {
        "colab": {
          "base_uri": "https://localhost:8080/"
        },
        "outputId": "53a6e2ab-b65b-4ba2-e9a6-43f8f2871515",
        "id": "UU61z0pUvbmV"
      },
      "execution_count": null,
      "outputs": [
        {
          "output_type": "execute_result",
          "data": {
            "text/plain": [
              "27.68"
            ]
          },
          "metadata": {},
          "execution_count": 87
        }
      ]
    },
    {
      "cell_type": "code",
      "source": [
        "def muda_base(z_antigo, base_antiga, base_nova):\n",
        "    ;...\n",
        "    ..\n",
        "    ...\n",
        "    return z_novo\n",
        "\n",
        "muda_base(5.8, 80, 100)"
      ],
      "metadata": {
        "id": "qi5vy_nmMRyW"
      },
      "execution_count": null,
      "outputs": []
    },
    {
      "cell_type": "code",
      "source": [
        "IMC(75,1.65)"
      ],
      "metadata": {
        "colab": {
          "base_uri": "https://localhost:8080/"
        },
        "outputId": "40e1b5f7-352e-4fd3-8b70-14ac46b35a06",
        "id": "XSvktYayvbmW"
      },
      "execution_count": null,
      "outputs": [
        {
          "output_type": "execute_result",
          "data": {
            "text/plain": [
              "27.55"
            ]
          },
          "metadata": {},
          "execution_count": 20
        }
      ]
    },
    {
      "cell_type": "markdown",
      "source": [
        "####Desafio1: Montar uma calculadora simples que realiza mudança de coordenadas"
      ],
      "metadata": {
        "id": "Z7GepvkC8sDc"
      }
    },
    {
      "cell_type": "code",
      "source": [
        "# Para declarar funções usa-se a palavra reservada def\n",
        "\n",
        "def pol2rec(amp, fase):\n",
        "    amp = float(amp)\n",
        "    fase = float(fase)\n",
        "    real = amp*np.cos(fase/180*np.pi)\n",
        "    imag = amp*np.sin(fase/180*np.pi)\n",
        "    return complex(round(real,2),round(imag,2))\n",
        "\n",
        "def rec2pol(real, imag):\n",
        "    real = float(real)\n",
        "    imag = float(imag)\n",
        "    amp = np.sqrt(real**2 + imag**2)\n",
        "    fase = np.arctan(imag/real)*180/np.pi\n",
        "\n",
        "    return (float(round(amp,2)), float(round(fase,2)))\n"
      ],
      "metadata": {
        "id": "KMvvGQcQjRnB"
      },
      "execution_count": null,
      "outputs": []
    },
    {
      "cell_type": "code",
      "source": [
        "import os\n",
        "import numpy as np\n",
        "from google.colab import output\n",
        "\n",
        "while True:\n",
        "    print(\"\\tConversão entre as coordenadas polar e cartesiana.\\n\")\n",
        "    op = int(input(\"Escolha a conversão:\\n1: Polar -> Cartesiano\\n2: Cartesiano -> Polar\\n3: Sair\\n\\n\"))\n",
        "\n",
        "    if(op == 1):\n",
        "        print(\"Entre com os valores de amplitude e fase: \")\n",
        "        amplitude = float(input(\"Amplitude: \"))\n",
        "        fase = float(input(\"Fase: \"))\n",
        "        coord_cart = pol2rec(amplitude, fase)\n",
        "        print(\"{}\".format(coord_cart))\n",
        "        input(\"\\nPressione para continuar\\n\")\n",
        "\n",
        "    elif(op == 2):\n",
        "        print(\"Entre com as partes do número complexo: \")\n",
        "        real = float(input(\"Parte real: \"))\n",
        "        imaginaria = float(input(\"Parte imaginária: \"))\n",
        "        amp, fase = rec2pol(real, imaginaria)\n",
        "        print(\"\\nAmplitude: {}\\nFase: {}º\".format(amp, fase))\n",
        "        input(\"\\n   Pressione para continuar\\n\")\n",
        "\n",
        "    elif(op == 3):\n",
        "        break\n",
        "\n",
        "    else: \n",
        "        print(\"Entre com uma opção válida\")\n",
        "    \n",
        "    output.clear()\n"
      ],
      "metadata": {
        "id": "Zr0ARf4ZxmIl",
        "colab": {
          "base_uri": "https://localhost:8080/",
          "height": 450
        },
        "outputId": "55923352-a924-4962-87fa-b8eb9c8299de"
      },
      "execution_count": null,
      "outputs": [
        {
          "output_type": "stream",
          "name": "stdout",
          "text": [
            "\tConversão entre as coordenadas polar e cartesiana.\n",
            "\n"
          ]
        },
        {
          "output_type": "error",
          "ename": "KeyboardInterrupt",
          "evalue": "ignored",
          "traceback": [
            "\u001b[0;31m---------------------------------------------------------------------------\u001b[0m",
            "\u001b[0;31mKeyboardInterrupt\u001b[0m                         Traceback (most recent call last)",
            "\u001b[0;32m<ipython-input-100-e75bb07f94f6>\u001b[0m in \u001b[0;36m<cell line: 5>\u001b[0;34m()\u001b[0m\n\u001b[1;32m      5\u001b[0m \u001b[0;32mwhile\u001b[0m \u001b[0;32mTrue\u001b[0m\u001b[0;34m:\u001b[0m\u001b[0;34m\u001b[0m\u001b[0;34m\u001b[0m\u001b[0m\n\u001b[1;32m      6\u001b[0m     \u001b[0mprint\u001b[0m\u001b[0;34m(\u001b[0m\u001b[0;34m\"\\tConversão entre as coordenadas polar e cartesiana.\\n\"\u001b[0m\u001b[0;34m)\u001b[0m\u001b[0;34m\u001b[0m\u001b[0;34m\u001b[0m\u001b[0m\n\u001b[0;32m----> 7\u001b[0;31m     \u001b[0mop\u001b[0m \u001b[0;34m=\u001b[0m \u001b[0mint\u001b[0m\u001b[0;34m(\u001b[0m\u001b[0minput\u001b[0m\u001b[0;34m(\u001b[0m\u001b[0;34m\"Escolha a conversão:\\n1: Polar -> Cartesiano\\n2: Cartesiano -> Polar\\n3: Sair\\n\\n\"\u001b[0m\u001b[0;34m)\u001b[0m\u001b[0;34m)\u001b[0m\u001b[0;34m\u001b[0m\u001b[0;34m\u001b[0m\u001b[0m\n\u001b[0m\u001b[1;32m      8\u001b[0m \u001b[0;34m\u001b[0m\u001b[0m\n\u001b[1;32m      9\u001b[0m     \u001b[0;32mif\u001b[0m\u001b[0;34m(\u001b[0m\u001b[0mop\u001b[0m \u001b[0;34m==\u001b[0m \u001b[0;36m1\u001b[0m\u001b[0;34m)\u001b[0m\u001b[0;34m:\u001b[0m\u001b[0;34m\u001b[0m\u001b[0;34m\u001b[0m\u001b[0m\n",
            "\u001b[0;32m/usr/local/lib/python3.10/dist-packages/ipykernel/kernelbase.py\u001b[0m in \u001b[0;36mraw_input\u001b[0;34m(self, prompt)\u001b[0m\n\u001b[1;32m    849\u001b[0m                 \u001b[0;34m\"raw_input was called, but this frontend does not support input requests.\"\u001b[0m\u001b[0;34m\u001b[0m\u001b[0;34m\u001b[0m\u001b[0m\n\u001b[1;32m    850\u001b[0m             )\n\u001b[0;32m--> 851\u001b[0;31m         return self._input_request(str(prompt),\n\u001b[0m\u001b[1;32m    852\u001b[0m             \u001b[0mself\u001b[0m\u001b[0;34m.\u001b[0m\u001b[0m_parent_ident\u001b[0m\u001b[0;34m,\u001b[0m\u001b[0;34m\u001b[0m\u001b[0;34m\u001b[0m\u001b[0m\n\u001b[1;32m    853\u001b[0m             \u001b[0mself\u001b[0m\u001b[0;34m.\u001b[0m\u001b[0m_parent_header\u001b[0m\u001b[0;34m,\u001b[0m\u001b[0;34m\u001b[0m\u001b[0;34m\u001b[0m\u001b[0m\n",
            "\u001b[0;32m/usr/local/lib/python3.10/dist-packages/ipykernel/kernelbase.py\u001b[0m in \u001b[0;36m_input_request\u001b[0;34m(self, prompt, ident, parent, password)\u001b[0m\n\u001b[1;32m    893\u001b[0m             \u001b[0;32mexcept\u001b[0m \u001b[0mKeyboardInterrupt\u001b[0m\u001b[0;34m:\u001b[0m\u001b[0;34m\u001b[0m\u001b[0;34m\u001b[0m\u001b[0m\n\u001b[1;32m    894\u001b[0m                 \u001b[0;31m# re-raise KeyboardInterrupt, to truncate traceback\u001b[0m\u001b[0;34m\u001b[0m\u001b[0;34m\u001b[0m\u001b[0m\n\u001b[0;32m--> 895\u001b[0;31m                 \u001b[0;32mraise\u001b[0m \u001b[0mKeyboardInterrupt\u001b[0m\u001b[0;34m(\u001b[0m\u001b[0;34m\"Interrupted by user\"\u001b[0m\u001b[0;34m)\u001b[0m \u001b[0;32mfrom\u001b[0m \u001b[0;32mNone\u001b[0m\u001b[0;34m\u001b[0m\u001b[0;34m\u001b[0m\u001b[0m\n\u001b[0m\u001b[1;32m    896\u001b[0m             \u001b[0;32mexcept\u001b[0m \u001b[0mException\u001b[0m \u001b[0;32mas\u001b[0m \u001b[0me\u001b[0m\u001b[0;34m:\u001b[0m\u001b[0;34m\u001b[0m\u001b[0;34m\u001b[0m\u001b[0m\n\u001b[1;32m    897\u001b[0m                 \u001b[0mself\u001b[0m\u001b[0;34m.\u001b[0m\u001b[0mlog\u001b[0m\u001b[0;34m.\u001b[0m\u001b[0mwarning\u001b[0m\u001b[0;34m(\u001b[0m\u001b[0;34m\"Invalid Message:\"\u001b[0m\u001b[0;34m,\u001b[0m \u001b[0mexc_info\u001b[0m\u001b[0;34m=\u001b[0m\u001b[0;32mTrue\u001b[0m\u001b[0;34m)\u001b[0m\u001b[0;34m\u001b[0m\u001b[0;34m\u001b[0m\u001b[0m\n",
            "\u001b[0;31mKeyboardInterrupt\u001b[0m: Interrupted by user"
          ]
        }
      ]
    },
    {
      "cell_type": "markdown",
      "source": [
        "# **5) Matemática computacional com Numpy**"
      ],
      "metadata": {
        "id": "X9bhCGXGkV28"
      }
    },
    {
      "cell_type": "code",
      "source": [
        "matriz = np.array([[1, 2, 3], [4, 5, 6]])\n",
        "matriz[0]"
      ],
      "metadata": {
        "colab": {
          "base_uri": "https://localhost:8080/"
        },
        "id": "Rg3jlGPYNDd7",
        "outputId": "cb4b3acb-26a8-47da-f3c2-ec2bc0ee3327"
      },
      "execution_count": null,
      "outputs": [
        {
          "output_type": "execute_result",
          "data": {
            "text/plain": [
              "array([1, 2, 3])"
            ]
          },
          "metadata": {},
          "execution_count": 92
        }
      ]
    },
    {
      "cell_type": "code",
      "source": [
        "matriz = np.array([[1, \"2\", 3.4], [4, 5, 6]])\n",
        "matriz\n",
        "print('nº de dimensões: \\n')\n",
        "print(matriz.ndim)\n",
        "\n",
        "print('\\nFormato: \\n')\n",
        "print(matriz.shape)\n",
        "\n",
        "print('\\nTamanho (nº de elementos): \\n')\n",
        "print(matriz.size)\n",
        "\n",
        "print('\\nTipos dos dados: \\n')\n",
        "print(matriz.dtype)\n",
        "\n",
        "print('\\nTamanho de 1 elemento: \\n')\n",
        "print(matriz.itemsize)\n",
        "\n",
        "print('\\nLocal dos dados na memória: \\n')\n",
        "print(matriz.data)"
      ],
      "metadata": {
        "id": "H3OXtXvt7at_",
        "colab": {
          "base_uri": "https://localhost:8080/"
        },
        "outputId": "ef47238f-7e39-4c7c-9e2e-0b17ff4836a4"
      },
      "execution_count": null,
      "outputs": [
        {
          "output_type": "stream",
          "name": "stdout",
          "text": [
            "nº de dimensões: \n",
            "\n",
            "2\n",
            "\n",
            "Formato: \n",
            "\n",
            "(2, 3)\n",
            "\n",
            "Tamanho (nº de elementos): \n",
            "\n",
            "6\n",
            "\n",
            "Tipos dos dados: \n",
            "\n",
            "<U32\n",
            "\n",
            "Tamanho de 1 elemento: \n",
            "\n",
            "128\n",
            "\n",
            "Local dos dados na memória: \n",
            "\n",
            "<memory at 0x7f3943baedc0>\n"
          ]
        }
      ]
    },
    {
      "cell_type": "code",
      "source": [
        "print(f\"Dimensão da matriz: {matriz.ndim}\")\n",
        "print(f\"Shape da Matriz: {matriz.shape}\")\n",
        "print(f\"Número de elementos da Matriz: {matriz.size}\")\n",
        "print(f\"Tipo dos elementos da Matriz: {matriz.dtype}\")\n",
        "print(f\"Tamanho em Bytes de cada elemento da Matriz: {matriz.itemsize}\")\n",
        "print(f\"Local da menmória onde está alocado essa matriz: {matriz.data}\")"
      ],
      "metadata": {
        "id": "dFx-CfPG8NMR",
        "colab": {
          "base_uri": "https://localhost:8080/"
        },
        "outputId": "b52c788b-608d-440b-9d57-6d38d3a69d2b"
      },
      "execution_count": null,
      "outputs": [
        {
          "output_type": "stream",
          "name": "stdout",
          "text": [
            "Dimensão da matriz: 2\n",
            "Shape da Matriz: (2, 3)\n",
            "Número de elementos da Matriz: 6\n",
            "Tipo dos elementos da Matriz: <U32\n",
            "Tamanho em Bytes de cada elemento da Matriz: 128\n",
            "Local da menmória onde está alocado essa matriz: <memory at 0x7f3943baedc0>\n"
          ]
        }
      ]
    },
    {
      "cell_type": "markdown",
      "source": [],
      "metadata": {
        "id": "IYdk0wYa8b9k"
      }
    },
    {
      "cell_type": "markdown",
      "metadata": {
        "id": "t1Du3ATLb0vI"
      },
      "source": [
        "### numpy.arange\n",
        "\n",
        "Retorna valores com espaçamento uniforme dentro de um determinado intervalo.\n",
        "\n",
        "<code> numpy.arange(start, stop, step, dtype=None, *, like=None) </code>\n",
        "\n",
        "- Parameters\n",
        "\n",
        "  - start : integer or real, optional\n",
        "\n",
        "    Início do intervalo. O intervalo inclui esse valor. O valor inicial padrão é 0.\n",
        "\n",
        "  - stop : integer or real\n",
        "\n",
        "    Fim do intervalo. O intervalo não inclui esse valor, exceto em alguns casos em que a etapa não é um número inteiro e o arredondamento de ponto flutuante afeta o comprimento de fora.\n",
        "\n",
        "  - step : integer or real, optional\n",
        "\n",
        "    Espaçamento entre valores.\n"
      ]
    },
    {
      "cell_type": "code",
      "metadata": {
        "colab": {
          "base_uri": "https://localhost:8080/"
        },
        "id": "Lqp_werzatxJ",
        "outputId": "347fd2d4-54d5-4fc6-e709-d815c1afe6d8"
      },
      "source": [
        "vetor = np.arange(1,12,2)\n",
        "vetor"
      ],
      "execution_count": null,
      "outputs": [
        {
          "output_type": "execute_result",
          "data": {
            "text/plain": [
              "array([ 1,  3,  5,  7,  9, 11])"
            ]
          },
          "metadata": {},
          "execution_count": 102
        }
      ]
    },
    {
      "cell_type": "markdown",
      "metadata": {
        "id": "FKXVzNpueafY"
      },
      "source": [
        "ainda com o arange podemos usar o método reshape para modificar o shape da matriz"
      ]
    },
    {
      "cell_type": "code",
      "metadata": {
        "colab": {
          "base_uri": "https://localhost:8080/"
        },
        "id": "PriFXAjdePmk",
        "outputId": "94d8f87f-4239-4cf9-cc37-0761c02e605f"
      },
      "source": [
        "matriz2 = matriz2.reshape(2, 3)\n",
        "matriz2"
      ],
      "execution_count": null,
      "outputs": [
        {
          "output_type": "execute_result",
          "data": {
            "text/plain": [
              "array([[ 1,  3,  5],\n",
              "       [ 7,  9, 11]])"
            ]
          },
          "metadata": {},
          "execution_count": 27
        }
      ]
    },
    {
      "cell_type": "markdown",
      "metadata": {
        "id": "q4G-pkSw3Or8"
      },
      "source": [
        "### numpy.zeros\n",
        "Esse método da biblioteca Numpy possibilita a inicialização de matrizes de n-dimensões com valores 0.\n",
        "\n",
        "<code> numpy.zeros(shape, dtype=float, order='C') </code>\n",
        "\n",
        "- Parâmetros\n",
        "\n",
        "  - shape\n",
        "\n",
        "    é a formato da matriz\n",
        "  - dtype\n",
        "  \n",
        "    Dtype: é o tipo de dados em zeros numpy. É opcional. O valor padrão é float64\n",
        "  - order\n",
        "\n",
        "    é um estilo de linha essencial para numpy.ones () em Python.\n"
      ]
    },
    {
      "cell_type": "markdown",
      "metadata": {
        "id": "zLosGMgU4Q6H"
      },
      "source": [
        "Obs: todas essas inicializações por ser um objeto numpy tem dodos os atrbultos descritos nas etapas anteriores, como: ndarray.ndim, ndarray.shape, ndarray.size, ndarray.dtype etc."
      ]
    },
    {
      "cell_type": "code",
      "metadata": {
        "colab": {
          "base_uri": "https://localhost:8080/"
        },
        "id": "3mEWx9Ky3Dzq",
        "outputId": "41fb1801-8a54-463c-936f-a8cd6218ee06"
      },
      "source": [
        "matriz_zeros = np.zeros((3, 3))\n",
        "matriz_zeros"
      ],
      "execution_count": null,
      "outputs": [
        {
          "output_type": "execute_result",
          "data": {
            "text/plain": [
              "array([[0., 0., 0.],\n",
              "       [0., 0., 0.],\n",
              "       [0., 0., 0.]])"
            ]
          },
          "metadata": {},
          "execution_count": 116
        }
      ]
    },
    {
      "cell_type": "markdown",
      "metadata": {
        "id": "fPCMVpOr445b"
      },
      "source": [
        "### numpy.ones\n",
        "Esse método possibilita a inicialização de matrizes de n-dimensões com valores 1.\n",
        "\n",
        "<code> numpy.ones(shape, dtype=float, order='C') </code>\n",
        "\n",
        "\n",
        "Obs: Possue os mesmos atribultos do método numpy.zeros"
      ]
    },
    {
      "cell_type": "code",
      "metadata": {
        "colab": {
          "base_uri": "https://localhost:8080/"
        },
        "id": "6N7sdiA043LZ",
        "outputId": "4d230bc0-3c63-49de-97a4-10143772d7c6"
      },
      "source": [
        "matriz_uns = np.ones((2, 3, 3), dtype = \"int64\", order = \"C\")\n",
        "matriz_uns"
      ],
      "execution_count": null,
      "outputs": [
        {
          "output_type": "execute_result",
          "data": {
            "text/plain": [
              "array([[[1, 1, 1],\n",
              "        [1, 1, 1],\n",
              "        [1, 1, 1]],\n",
              "\n",
              "       [[1, 1, 1],\n",
              "        [1, 1, 1],\n",
              "        [1, 1, 1]]])"
            ]
          },
          "metadata": {},
          "execution_count": 29
        }
      ]
    },
    {
      "cell_type": "markdown",
      "metadata": {
        "id": "3X6shc4F9Xwo"
      },
      "source": [
        "### numpy.empty\n",
        "\n",
        "Esse método é usada para criar uma matriz sem inicializar, os valores mostrados são chamados de lixo de memória, ou seja, são valores que já estavam na menmória antes de criar a matriz, esse método é conveniente quando se quer criar matrizes rapidamente, pois ela tem uma maior perfomasse para serem criadas.\n",
        "\n",
        "<code> numpy.empty(shape, dtype=float, order='C') </code>\n"
      ]
    },
    {
      "cell_type": "code",
      "metadata": {
        "colab": {
          "base_uri": "https://localhost:8080/"
        },
        "id": "OXVZaRYm7xiz",
        "outputId": "941cd47a-df4f-4efc-8b80-2bc474368283"
      },
      "source": [
        "matriz_empty = np.empty((2, 3, 2), dtype = \"float64\", order = \"C\")\n",
        "matriz_empty"
      ],
      "execution_count": null,
      "outputs": [
        {
          "output_type": "execute_result",
          "data": {
            "text/plain": [
              "array([[[1.07284626e-317, 6.66323560e-317],\n",
              "        [            nan, 1.24636384e-316],\n",
              "        [            nan, 7.65483869e-317]],\n",
              "\n",
              "       [[7.65483869e-317,             nan],\n",
              "        [1.24636384e-316,             nan],\n",
              "        [6.66323560e-317, 1.07284626e-317]]])"
            ]
          },
          "metadata": {},
          "execution_count": 30
        }
      ]
    },
    {
      "cell_type": "code",
      "metadata": {
        "colab": {
          "base_uri": "https://localhost:8080/",
          "height": 165
        },
        "id": "geUuW6d6-J3z",
        "outputId": "c3e7a6f1-37cf-4365-e3f3-377c9c6ca918"
      },
      "source": [
        "matriz_empty.shape"
      ],
      "execution_count": null,
      "outputs": [
        {
          "output_type": "error",
          "ename": "NameError",
          "evalue": "ignored",
          "traceback": [
            "\u001b[0;31m---------------------------------------------------------------------------\u001b[0m",
            "\u001b[0;31mNameError\u001b[0m                                 Traceback (most recent call last)",
            "\u001b[0;32m<ipython-input-117-fbcccadfa78b>\u001b[0m in \u001b[0;36m<cell line: 1>\u001b[0;34m()\u001b[0m\n\u001b[0;32m----> 1\u001b[0;31m \u001b[0mmatriz_empty\u001b[0m\u001b[0;34m.\u001b[0m\u001b[0mshape\u001b[0m\u001b[0;34m\u001b[0m\u001b[0;34m\u001b[0m\u001b[0m\n\u001b[0m",
            "\u001b[0;31mNameError\u001b[0m: name 'matriz_empty' is not defined"
          ]
        }
      ]
    },
    {
      "cell_type": "markdown",
      "metadata": {
        "id": "mHyILWkV_EDe"
      },
      "source": [
        "### numpy.linspace\n",
        "\n",
        "<code> numpy.linspace(start, stop, num=50, endpoint=True, retstep=False, dtype=None, axis=0) </code>\n",
        "\n",
        "- Parâmetros\n",
        "\n",
        "  - start\n",
        "\n",
        "    O valor inicial da sequência.\n",
        "  - stop\n",
        "  \n",
        "    O valor final da sequência\n",
        "  - num\n",
        "\n",
        "    Número de amostras a serem geradas. O padrão é 50. Não deve ser negativo.\n",
        "\n",
        "  - endpoint\n",
        "\n",
        "    Se for True, stop é a última amostra. Caso contrário, não está incluído. O padrão é True.\n",
        "\n",
        "  - retstep\n",
        "\n",
        "    Se for True, retorna (samples, step), onde step é o espaçamento entre as amostras.\n",
        "\n",
        "  - dtype\n",
        "\n",
        "    O tipo da matriz de saída.\n",
        "\n",
        "  - axis\n",
        "\n",
        "    O eixo no resultado para armazenar as amostras. Relevante apenas se start ou stop forem semelhantes a array. Por padrão (0), as amostras estarão ao longo de um novo eixo inserido no início. Use -1 para obter um eixo no final.\n",
        "\n",
        "  - Returns\n",
        "\n",
        "    Existem núm amostras igualmente espaçadas no intervalo fechado [iniciar, parar] ou no intervalo semi-aberto [iniciar, parar) (dependendo se o ponto final é Verdadeiro ou Falso).\n",
        "\n",
        "  - step\n",
        "\n",
        "    Retornado apenas se retstep for True Tamanho do espaçamento entre as amostras.\n"
      ]
    },
    {
      "cell_type": "code",
      "metadata": {
        "colab": {
          "base_uri": "https://localhost:8080/"
        },
        "id": "Jx3uAb0V_CiH",
        "outputId": "d13b555f-bf9d-4169-ad9b-50108c410ca3"
      },
      "source": [
        "matriz_linspace = np.linspace(0, 10, num=3, dtype = \"float64\")\n",
        "matriz_linspace"
      ],
      "execution_count": null,
      "outputs": [
        {
          "output_type": "execute_result",
          "data": {
            "text/plain": [
              "array([ 0.,  5., 10.])"
            ]
          },
          "metadata": {},
          "execution_count": 120
        }
      ]
    },
    {
      "cell_type": "markdown",
      "source": [
        "---------------------------------------------------------------------------"
      ],
      "metadata": {
        "id": "-WACeUtE7bWf"
      }
    },
    {
      "cell_type": "code",
      "source": [
        "# O método `np.array` cria um array numpy com seus próprios valores.\n",
        "one_dimensional_array = np.array([1.2, 2.4, 3.5, 4.7, 6.1, 7.2, 8.3, 9.5])\n",
        "print(one_dimensional_array)\n",
        "print(\"\\n\\n\")\n",
        "two_dimensional_array = np.array([[6, 5], [11, 7], [4, 8]])\n",
        "print(two_dimensional_array)"
      ],
      "metadata": {
        "id": "Xow1qXbTc25K"
      },
      "execution_count": null,
      "outputs": []
    },
    {
      "cell_type": "code",
      "source": [
        "# Também é possível preencher um array com um sequência de números utilizando o método arange()\n",
        "sequence_of_integers = np.arange(5, 12)\n",
        "print(sequence_of_integers)\n",
        "\n",
        "print(\"\\n\\n\\n\")\n",
        "\n",
        "# Preenchendo arrays com valores aleátorios\n",
        "\n",
        "random_integers_between_50_and_100 = np.random.randint(low=50, high=101, size=(6))\n",
        "print(\"Números aleatórios entre 50 e 100: \")\n",
        "print(random_integers_between_50_and_100)\n",
        "print(\"\\n\")\n",
        "print(\"Números aleatórios entre 0 e 1: \")\n",
        "random_floats_between_0_and_1 = np.random.random([6])\n",
        "print(random_floats_between_0_and_1) "
      ],
      "metadata": {
        "id": "yY-ZSjF5dXrw"
      },
      "execution_count": null,
      "outputs": []
    },
    {
      "cell_type": "markdown",
      "source": [
        "Se você quiser adicionar ou subtrair dois arrays, a álgebra linear requer que os dois operandos tenham as mesmas dimensões. Além disso, se você quiser multiplicar dois arrays, a álgebra linear impõe regras estritas sobre a compatibilidade dimensional dos operandos. Felizmente, a NumPy usa um truque chamado *broadcast* para virtualmente expandir o operando menor para dimensões compatíveis para a álgebra linear.\n",
        "\n",
        "\n",
        "\n",
        "*fonte: https://colab.research.google.com/github/google/eng-edu/blob/main/ml/cc/exercises/numpy_ultraquick_tutorial.ipynb*"
      ],
      "metadata": {
        "id": "4gUkvwA8ehdw"
      }
    },
    {
      "cell_type": "code",
      "source": [
        "random_floats_between_2_and_3 = random_floats_between_0_and_1 + 2.0\n",
        "print(random_floats_between_2_and_3)"
      ],
      "metadata": {
        "colab": {
          "base_uri": "https://localhost:8080/"
        },
        "id": "ivXC9tBjeU0e",
        "outputId": "d694622f-99ea-4012-9bf4-4631b0855f31"
      },
      "execution_count": null,
      "outputs": [
        {
          "output_type": "stream",
          "name": "stdout",
          "text": [
            "[2.39324895 2.26207961 2.67601699 2.26928658 2.60992404 2.54384921]\n"
          ]
        }
      ]
    },
    {
      "cell_type": "code",
      "source": [
        "random_integers_between_150_and_300 = random_integers_between_50_and_100 * 3\n",
        "print(random_integers_between_150_and_300)"
      ],
      "metadata": {
        "colab": {
          "base_uri": "https://localhost:8080/"
        },
        "id": "KfSC88bVe5sd",
        "outputId": "565e0efb-7ba1-4979-9644-2f102adebd18"
      },
      "execution_count": null,
      "outputs": [
        {
          "output_type": "stream",
          "name": "stdout",
          "text": [
            "[252 177 273 294 276 237]\n"
          ]
        }
      ]
    },
    {
      "cell_type": "markdown",
      "metadata": {
        "id": "i4jSelpoEzlW"
      },
      "source": [
        "Operadores aritiméticos com Numpy\n",
        "\n",
        "\n",
        "Para esse primeiro exemplo, vamos soma duas matrizes 1D de mesmo tamanho, para que a soma possa ser realizada as matrizes devem ter mesma quantidade de itens, nesse exemplo cada matriz possue 5 elementos"
      ]
    },
    {
      "cell_type": "markdown",
      "metadata": {
        "id": "KRK2o4lcGXsV"
      },
      "source": [
        "mas posições correspondentes de cada matriz se soma"
      ]
    },
    {
      "cell_type": "code",
      "metadata": {
        "id": "Yfkog5GD4--B",
        "colab": {
          "base_uri": "https://localhost:8080/"
        },
        "outputId": "99b9e2e4-0d18-4115-c81c-33d2c478e43d"
      },
      "source": [
        "# Matriz 1D com 5 elementos\n",
        "matriz1 = np.arange(6, 11) \n",
        "\n",
        "# Matriz 1D com 5 elementos\n",
        "matriz2 = np.array([1, 2, 3, 4, 5])\n",
        "\n",
        "# Soma entre os elementos das matrizes: matriz1 + Matriz2\n",
        "matriz3 = matriz1 + matriz2\n",
        "\n",
        "# Subtração entre os elementos das matrizes: matriz1 + Matriz2\n",
        "matriz4 = matriz1 - matriz2\n",
        "\n",
        "# Multiplicação entre os elementos das matrizes: matriz1 + Matriz2\n",
        "matriz5 = matriz1 * matriz2\n",
        "\n",
        "# Divição entre os elementos das matrizes: matriz1 + Matriz2\n",
        "matriz6 = matriz1 / matriz2\n",
        "\n",
        "print(f\"Matriz1 : {matriz1}\")\n",
        "print(f\"Matriz2 : {matriz2}\")\n",
        "print()\n",
        "print(f\"matriz1 + matriz2: {matriz3}\")\n",
        "print(f\"matriz1 - matriz2: {matriz4}\")\n",
        "print(f\"matriz1 * matriz2: {matriz5}\")\n",
        "print(f\"matriz1 / matriz2: {matriz6}\")\n"
      ],
      "execution_count": null,
      "outputs": [
        {
          "output_type": "stream",
          "text": [
            "Matriz1 : [ 6  7  8  9 10]\n",
            "Matriz2 : [1 2 3 4 5]\n",
            "\n",
            "matriz1 + matriz2: [ 7  9 11 13 15]\n",
            "matriz1 - matriz2: [5 5 5 5 5]\n",
            "matriz1 * matriz2: [ 6 14 24 36 50]\n",
            "matriz1 / matriz2: [6.         3.5        2.66666667 2.25       2.        ]\n"
          ],
          "name": "stdout"
        }
      ]
    },
    {
      "cell_type": "markdown",
      "metadata": {
        "id": "d2HbYf0owrQo"
      },
      "source": [
        "## Operações aritiméticas em matrizes por um Escalar\n",
        "\n",
        "É possível aplicar um operador aritimético na matriz com um Escalar, todos os elementos da matriz irá sofrer a ação desse operador individualmente"
      ]
    },
    {
      "cell_type": "code",
      "metadata": {
        "colab": {
          "base_uri": "https://localhost:8080/"
        },
        "id": "SBXG830zwjo3",
        "outputId": "9b2eb6ec-313a-4df9-f7bc-eb7b7a933770"
      },
      "source": [
        "m8 = np.array([1, 2, 3, 4, 5])\n",
        "\n",
        "print(f\"Matriz m8: {m8}\")\n",
        "\n",
        "print()\n",
        "\n",
        "# Somando a matriz com um escalar\n",
        "print(f\"m8 + 2:  {m8 + 2}\")\n",
        "\n",
        "# Subtração de matriz com um escalar\n",
        "print(f\"m8 - 2:  {m8 - 2}\")\n",
        "\n",
        "# Multiplicando por Escalar\n",
        "print(f\"m8 * 2:  {m8 * 2}\")\n",
        "\n",
        "# Divisão de matriz por um Escalar\n",
        "print(f\"m8 / 2:  {m8 / 2}\")\n",
        "\n",
        "# elevando a matriz a uma potência\n",
        "print(f\"m8 ** 2: {m8 ** 2}\")\n",
        "\n"
      ],
      "execution_count": null,
      "outputs": [
        {
          "output_type": "stream",
          "name": "stdout",
          "text": [
            "Matriz m8: [1 2 3 4 5]\n",
            "\n",
            "m8 + 2:  [3 4 5 6 7]\n",
            "m8 - 2:  [-1  0  1  2  3]\n",
            "m8 * 2:  [ 2  4  6  8 10]\n",
            "m8 / 2:  [0.5 1.  1.5 2.  2.5]\n",
            "m8 ** 2: [ 1  4  9 16 25]\n"
          ]
        }
      ]
    },
    {
      "cell_type": "markdown",
      "metadata": {
        "id": "tgb80SaLUCES"
      },
      "source": [
        "## Usando Numpy com Expressões Condicionais\n",
        "\n",
        "Podemos usar expressões condicionais para retorna valores booleanos nas posições dos elementos da matriz\n"
      ]
    },
    {
      "cell_type": "code",
      "metadata": {
        "id": "BGGln_gAxDGD",
        "colab": {
          "base_uri": "https://localhost:8080/"
        },
        "outputId": "7be2a15d-a14e-48af-af68-ca3806708a4d"
      },
      "source": [
        "matriz6 = np.array([7, -3, 4, 2, 7, 3, 8, 9, 1])\n",
        "print(matriz6)\n",
        "\n",
        "# Aplicando expressões condicionais ma matriz6 \n",
        "m7 = matriz6 > 5\n",
        "print(m7)"
      ],
      "execution_count": null,
      "outputs": [
        {
          "output_type": "stream",
          "name": "stdout",
          "text": [
            "[ 7 -3  4  2  7  3  8  9  1]\n",
            "[ True False False False  True False  True  True False]\n"
          ]
        }
      ]
    },
    {
      "cell_type": "markdown",
      "metadata": {
        "id": "8saouzlAb07i"
      },
      "source": [
        "## Produto de matrizes \n",
        "você pode usar o operador ‘@.’\n",
        "\n",
        "Em matemática, o produto de duas matrizes é definido somente quando o número de colunas da primeira matriz é igual ao número de linhas da segunda matriz. Se A é uma matriz m×n e B é uma matriz n×p, então seu produto é uma matriz m×p definida como AB.\n",
        "https://pt.wikipedia.org/wiki/Produto_de_matrizes\n"
      ]
    },
    {
      "cell_type": "markdown",
      "metadata": {
        "id": "KNYMxC1wiMDj"
      },
      "source": [
        "### Forma 1"
      ]
    },
    {
      "cell_type": "code",
      "metadata": {
        "colab": {
          "base_uri": "https://localhost:8080/"
        },
        "id": "8nEMc-sGbht-",
        "outputId": "65108f70-c891-43cf-e5a8-340bb68fefc5"
      },
      "source": [
        "M1 = np.array([[1,2],[3,4]])\n",
        "M2 = np.array([[1,2],[3,4]])\n",
        "\n",
        "M1 @ M2"
      ],
      "execution_count": null,
      "outputs": [
        {
          "output_type": "execute_result",
          "data": {
            "text/plain": [
              "array([[ 7, 10],\n",
              "       [15, 22]])"
            ]
          },
          "metadata": {},
          "execution_count": 33
        }
      ]
    },
    {
      "cell_type": "markdown",
      "metadata": {
        "id": "HVTWT1OIiR8n"
      },
      "source": [
        "### Forma 2"
      ]
    },
    {
      "cell_type": "code",
      "metadata": {
        "colab": {
          "base_uri": "https://localhost:8080/",
          "height": 86
        },
        "id": "hbxql4Xmf8BN",
        "outputId": "c3e618b8-a22a-4a64-9b7e-65ace341c199"
      },
      "source": [
        "print(matriz)\n",
        "display(matriz)"
      ],
      "execution_count": null,
      "outputs": [
        {
          "output_type": "stream",
          "name": "stdout",
          "text": [
            "[['1' '2' '3.4']\n",
            " ['4' '5' '6']]\n"
          ]
        },
        {
          "output_type": "display_data",
          "data": {
            "text/plain": [
              "array([['1', '2', '3.4'],\n",
              "       ['4', '5', '6']], dtype='<U32')"
            ]
          },
          "metadata": {}
        }
      ]
    },
    {
      "cell_type": "markdown",
      "metadata": {
        "id": "A1zGvKQqi8Ji"
      },
      "source": [
        "#### A função min encontra o valor mais baixo na matriz.\n"
      ]
    },
    {
      "cell_type": "code",
      "metadata": {
        "colab": {
          "base_uri": "https://localhost:8080/"
        },
        "id": "FXvMgLOBixXZ",
        "outputId": "ae8068b3-3cfb-489d-8815-8c966ee21a3d"
      },
      "source": [
        "matriz.min()"
      ],
      "execution_count": null,
      "outputs": [
        {
          "output_type": "execute_result",
          "data": {
            "text/plain": [
              "1"
            ]
          },
          "metadata": {},
          "execution_count": 36
        }
      ]
    },
    {
      "cell_type": "markdown",
      "metadata": {
        "id": "Mm0ltUMckSHp"
      },
      "source": [
        "### O Maior elemento da Matriz"
      ]
    },
    {
      "cell_type": "code",
      "metadata": {
        "colab": {
          "base_uri": "https://localhost:8080/"
        },
        "id": "9NT6bxqBjBL2",
        "outputId": "fba5726b-97ba-49f1-93cc-b531422c1bff"
      },
      "source": [
        "matriz.max()"
      ],
      "execution_count": null,
      "outputs": [
        {
          "output_type": "execute_result",
          "data": {
            "text/plain": [
              "6"
            ]
          },
          "metadata": {},
          "execution_count": 37
        }
      ]
    },
    {
      "cell_type": "markdown",
      "metadata": {
        "id": "8xlTIwahjVJH"
      },
      "source": [
        "### Média dos valores da Matriz"
      ]
    },
    {
      "cell_type": "code",
      "metadata": {
        "colab": {
          "base_uri": "https://localhost:8080/"
        },
        "id": "uVQ6VqSdjICe",
        "outputId": "2f479b58-b588-4804-c33a-5a6801b4c094"
      },
      "source": [
        "matriz.mean()"
      ],
      "execution_count": null,
      "outputs": [
        {
          "output_type": "execute_result",
          "data": {
            "text/plain": [
              "3.5"
            ]
          },
          "metadata": {},
          "execution_count": 38
        }
      ]
    },
    {
      "cell_type": "markdown",
      "metadata": {
        "id": "YhijbShOkJlJ"
      },
      "source": [
        "### Retorna o desvio padrão dos elementos da matriz ao longo do eixo fornecido.\n"
      ]
    },
    {
      "cell_type": "code",
      "metadata": {
        "colab": {
          "base_uri": "https://localhost:8080/"
        },
        "id": "Qat1Oc9SjUQX",
        "outputId": "d6abebd5-4b54-4919-bcf7-b29a64366bf3"
      },
      "source": [
        "matriz.std()"
      ],
      "execution_count": null,
      "outputs": [
        {
          "output_type": "execute_result",
          "data": {
            "text/plain": [
              "1.707825127659933"
            ]
          },
          "metadata": {},
          "execution_count": 39
        }
      ]
    },
    {
      "cell_type": "markdown",
      "metadata": {
        "id": "7_0nm14-0GHE"
      },
      "source": [
        "## Operadores aplicados aos eixos das matrizes\n",
        "\n",
        "Matrizes são formadas por eixos, uma matriz unidimencional possue 1 eixo, já uma matriz bi-dimencional possue 2 eixos e assim sucessivamente.\n",
        "vamos aplicar alguns parâmentros para trabalhar com os valores de uma matriz e fazer algumas operações aritiméticas "
      ]
    },
    {
      "cell_type": "markdown",
      "metadata": {
        "id": "GroxqH7v1PuZ"
      },
      "source": [
        "### Acessando os valores da coluna 1 dessa matriz"
      ]
    },
    {
      "cell_type": "code",
      "metadata": {
        "colab": {
          "base_uri": "https://localhost:8080/"
        },
        "id": "jfqPYc3l1WAt",
        "outputId": "40177632-d39d-4fb1-e78f-b87fa556783a"
      },
      "source": [
        "matriz[:, 1]"
      ],
      "execution_count": null,
      "outputs": [
        {
          "output_type": "execute_result",
          "data": {
            "text/plain": [
              "array([2, 5])"
            ]
          },
          "metadata": {},
          "execution_count": 41
        }
      ]
    },
    {
      "cell_type": "markdown",
      "metadata": {
        "id": "uq_ucj3Y1b7T"
      },
      "source": [
        "### Acessando os valores da linha 1 dessa matriz"
      ]
    },
    {
      "cell_type": "code",
      "metadata": {
        "colab": {
          "base_uri": "https://localhost:8080/"
        },
        "id": "pNdCoBMO09hW",
        "outputId": "9bbaa4d1-335a-477b-9838-9b7ca3f65222"
      },
      "source": [
        "matriz[1, :]"
      ],
      "execution_count": null,
      "outputs": [
        {
          "output_type": "execute_result",
          "data": {
            "text/plain": [
              "array([4, 5, 6])"
            ]
          },
          "metadata": {},
          "execution_count": 40
        }
      ]
    },
    {
      "cell_type": "markdown",
      "metadata": {
        "id": "wnq89rH32FSU"
      },
      "source": [
        "### Operadores Aritiméticas aplicado nas colunas de Uma *matriz*"
      ]
    },
    {
      "cell_type": "code",
      "metadata": {
        "colab": {
          "base_uri": "https://localhost:8080/"
        },
        "id": "ipZKFcJN1jGB",
        "outputId": "1d3d0f41-4ac2-418e-d649-0fb9e2571a20"
      },
      "source": [
        "# Soma dos elementos da columa 2 da matriz10\n",
        "s_elemento_c2 = matriz[:, 2].sum()\n",
        "\n",
        "# Multiplicação dos elementos da coluna 2 da Matriz10\n",
        "m_elemento_c2 = matriz[:, 2].prod()\n",
        "\n",
        "print(matriz)\n",
        "print('\\n')\n",
        "# Print dos valores\n",
        "print(f\"Soma Elementos Coluna 2: {s_elemento_c2}\")\n",
        "print(f\"Multiplicação Elementos Coluna 2: {m_elemento_c2}\")\n"
      ],
      "execution_count": null,
      "outputs": [
        {
          "output_type": "stream",
          "name": "stdout",
          "text": [
            "[[1 2 3]\n",
            " [4 5 6]]\n",
            "\n",
            "\n",
            "Soma Elementos Coluna 2: 9\n",
            "Multiplicação Elementos Coluna 2: 18\n"
          ]
        }
      ]
    },
    {
      "cell_type": "markdown",
      "metadata": {
        "id": "X-05a2UO8E4-"
      },
      "source": [
        "Operações Aritiméticas nas linhas de Uma matriz"
      ]
    },
    {
      "cell_type": "code",
      "metadata": {
        "colab": {
          "base_uri": "https://localhost:8080/"
        },
        "id": "Tplrrx-K12yp",
        "outputId": "5d1ab2ce-9e78-4ebe-d91e-5d378a442319"
      },
      "source": [
        "# Soma dos elementos da linha 1 da matriz10\n",
        "s_elemento_l1 = matriz[1, :].sum()\n",
        "\n",
        "# Multiplicação dos elementos da linha 1 da Matriz10\n",
        "m_elemento_l1 = matriz[1, :].prod()\n",
        "\n",
        "# Print dos valores\n",
        "print(f\"Soma Elementos Linha 1: {s_elemento_l1}\")\n",
        "print(f\"Multiploicação Elementos Linha 1: {m_elemento_l1}\")"
      ],
      "execution_count": null,
      "outputs": [
        {
          "output_type": "stream",
          "name": "stdout",
          "text": [
            "Soma Elementos Linha 1: 15\n",
            "Multiploicação Elementos Linha 1: 120\n"
          ]
        }
      ]
    },
    {
      "cell_type": "code",
      "source": [
        "## Resolvendo sistemas de equações\n",
        "import numpy as np\n",
        "# Sistema:\n",
        "#\n",
        "# | 3*x + 5*y = 2:\n",
        "# |   x + 2*y = 1\n",
        "\n",
        "a = np.array([[1, 2], [3, 5]])\n",
        "b = np.array([1, 2])\n",
        "x = np.linalg.solve(a, b)\n",
        "\n",
        "print('Resolução do sistema:\\n')\n",
        "print(x)\n",
        "print('\\n\\n')\n",
        "\n",
        "# Definindo uma matrix\n",
        "A = np.ones((3, 3))\n",
        "print('Matriz A:\\n')\n",
        "print(A)\n",
        "print('\\n\\n')\n",
        "# Cálculo da matriz inversa\n",
        "B = np.linalg.pinv(A)\n",
        "print('Inverso da matriz A:\\n')\n",
        "print(B)\n",
        "print('\\n\\n')\n",
        "# Norma matricial, semelhante ao módulo de um vetor\n",
        "print(\"Norma da matriz A:\\n\")\n",
        "print(np.linalg.norm(A))\n",
        "print('\\n\\n')\n",
        "# Cálculo dos autovalores da matriz\n",
        "print(\"Autovalores da matriz A:\\n\")\n",
        "a, b = np.linalg.eig(A)\n",
        "print(a)\n",
        "print('\\n\\n')\n",
        "print(\"Autovetores da matriz A:\\n\")\n",
        "print(b)\n",
        "\n"
      ],
      "metadata": {
        "id": "DFRCX8fgJgl8"
      },
      "execution_count": null,
      "outputs": []
    },
    {
      "cell_type": "markdown",
      "source": [
        "##*Desafio 2: Montar as matrizes condutância e susceptância a partir das impedâncias fornecidas em coordenadas retangulares*"
      ],
      "metadata": {
        "id": "UYMNS95b82l4"
      }
    },
    {
      "cell_type": "code",
      "source": [
        "# Para declarar funções usa-se a palavra reservada def\n",
        "\n",
        "def pol2rec(amp, fase):\n",
        "    amp = float(amp)\n",
        "    fase = float(fase)\n",
        "    real = amp*np.cos(fase/180*np.pi)\n",
        "    imag = amp*np.sin(fase/180*np.pi)\n",
        "    return complex(round(real,2),round(imag,2))\n",
        "\n",
        "def rec2pol(real, imag):\n",
        "    real = float(real)\n",
        "    imag = float(imag)\n",
        "    amp = np.sqrt(real**2 + imag**2)\n",
        "    fase = np.arctan(imag/real)*180/np.pi\n",
        "\n",
        "    # tentando retornar uma tupla\n",
        "    return (float(round(amp,2)), float(round(fase,2)))\n",
        "#    return float(round(amp,2)), float(round(fase,2))\n"
      ],
      "metadata": {
        "id": "VFEl83fyjY5P"
      },
      "execution_count": null,
      "outputs": []
    },
    {
      "cell_type": "code",
      "source": [
        "# trocar função de conversão pela construída no código\n",
        "\n",
        "import cmath\n",
        "import numpy as np\n",
        "import math\n",
        "print('##########  Calculadora Matricial  ##########\\n')\n",
        "tamanho = int(input(\"Nº de barras: \"))\n",
        "print(\"\\n\\tInforme as impedancias \\n\\t[Coordenadas cartesianas]\\n\")\n",
        "# declarando matriz condutancia e susceptancia\n",
        "g = np.zeros((tamanho, tamanho))\n",
        "b = np.zeros((tamanho, tamanho))\n",
        "# inicializando as matrizes com valores Nan\n",
        "for i in range(tamanho):\n",
        "    for j in range(tamanho):\n",
        "        g[i,j] = math.nan\n",
        "        b[i,j] = math.nan\n",
        "\n",
        "for i in range(tamanho):\n",
        "    for j in range(tamanho):\n",
        "        print(\"\\n[{0},{1}] == [{1},{0}]\\n\".format(i+1,j+1)) # indice da matriz\n",
        "        # calculo para diagonal principal\n",
        "        if(i == j):\n",
        "            # entrada de dados\n",
        "            z_cart = complex(float(input(\"Parte real: \")), float(input(\"Parte imaginária: \"))) \n",
        "            # z_pol = cmath.polar(z_cart)\n",
        "            ##################################\n",
        "            z_pol = rec2pol(z_cart.real, z_cart.imag)\n",
        "            print('\\n\\n{}\\n\\n'.format(z_pol))\n",
        "\n",
        "            ################################## TESTAR FUNÇÃO REC2POL ##################################\n",
        "\n",
        "            if(float(z_pol[0]) == 0):\n",
        "                #y = -(cmath.rect((1/(1e-10)), (-float(z_pol[1]))))\n",
        "                y = -(pol2rec((1/(1e-10)), (-float(z_pol[1]))))                \n",
        "            else:\n",
        "                y = -(pol2rec((1/float(z_pol[0])), (-float(z_pol[1]))))\n",
        "            \n",
        "            g[i,j] = y.real\n",
        "            b[i,j] = y.imag\n",
        "            ###########################################################################################\n",
        "            \n",
        "        # calculo fora da diagonal\n",
        "        elif(i != j and math.isnan(g[i,j]) == True):\n",
        "            z_cart = complex(float(input(\"Parte real: \")), float(input(\"Parte imaginária: \"))) \n",
        "            #z_pol = cmath.polar(z_cart)\n",
        "            z_pol = rec2pol(z_cart.real, z_cart.imag)  \n",
        "\n",
        "            if(float(z_pol[0]) == 0):\n",
        "                y = cmath.rect((1/(1e-10)), (-float(z_pol[1])))\n",
        "            else:\n",
        "                y = cmath.rect((1/float(z_pol[0])), (-float(z_pol[1])))\n",
        "\n",
        "            g[i,j] = y.real\n",
        "            b[i,j] = y.imag\n",
        "\n",
        "        if(i != j and math.isnan(g[j,i]) == True):\n",
        "            g[j,i] = g[i,j]\n",
        "            b[j,i] = b[i,j]\n",
        "            print(\"Associando celulas\")\n",
        "            display(g)\n",
        "            print(\"\\n\\n\")\n",
        "            display(b)\n",
        "\n",
        "\n",
        "    ### para a diagonal principal considerar apenas impedancia da linha (sem capacitancia)\n",
        "\n",
        "print(\"\\n\")\n",
        "print(g)\n",
        "print(\"\\n\\n\")\n",
        "print(b)\n"
      ],
      "metadata": {
        "colab": {
          "base_uri": "https://localhost:8080/",
          "height": 1000
        },
        "id": "jlS_2Gy_CJD6",
        "outputId": "df34af2f-e0af-4edd-9d06-1c10ac586737"
      },
      "execution_count": null,
      "outputs": [
        {
          "output_type": "stream",
          "name": "stdout",
          "text": [
            "##########  Calculadora Matricial  ##########\n",
            "\n",
            "Nº de barras: 2\n",
            "\n",
            "\tInforme as impedancias \n",
            "\t[Coordenadas cartesianas]\n",
            "\n",
            "\n",
            "[1,1] == [1,1]\n",
            "\n",
            "Parte real: 2\n",
            "Parte imaginária: 3\n",
            "\n",
            "\n",
            "(3.61, 56.31)\n",
            "\n",
            "\n",
            "\n",
            "[1,2] == [2,1]\n",
            "\n",
            "Parte real: 5\n",
            "Parte imaginária: 5\n",
            "Associando celulas\n"
          ]
        },
        {
          "output_type": "display_data",
          "data": {
            "text/plain": [
              "array([[-0.15      ,  0.07430297],\n",
              "       [ 0.07430297,         nan]])"
            ]
          },
          "metadata": {}
        },
        {
          "output_type": "stream",
          "name": "stdout",
          "text": [
            "\n",
            "\n",
            "\n"
          ]
        },
        {
          "output_type": "display_data",
          "data": {
            "text/plain": [
              "array([[ 0.23      , -0.12035411],\n",
              "       [-0.12035411,         nan]])"
            ]
          },
          "metadata": {}
        },
        {
          "output_type": "stream",
          "name": "stdout",
          "text": [
            "\n",
            "[2,1] == [1,2]\n",
            "\n",
            "\n",
            "[2,2] == [2,2]\n",
            "\n"
          ]
        },
        {
          "output_type": "error",
          "ename": "KeyboardInterrupt",
          "evalue": "ignored",
          "traceback": [
            "\u001b[0;31m---------------------------------------------------------------------------\u001b[0m",
            "\u001b[0;31mKeyboardInterrupt\u001b[0m                         Traceback (most recent call last)",
            "\u001b[0;32m<ipython-input-122-4eced3cb4f03>\u001b[0m in \u001b[0;36m<cell line: 18>\u001b[0;34m()\u001b[0m\n\u001b[1;32m     22\u001b[0m         \u001b[0;32mif\u001b[0m\u001b[0;34m(\u001b[0m\u001b[0mi\u001b[0m \u001b[0;34m==\u001b[0m \u001b[0mj\u001b[0m\u001b[0;34m)\u001b[0m\u001b[0;34m:\u001b[0m\u001b[0;34m\u001b[0m\u001b[0;34m\u001b[0m\u001b[0m\n\u001b[1;32m     23\u001b[0m             \u001b[0;31m# entrada de dados\u001b[0m\u001b[0;34m\u001b[0m\u001b[0;34m\u001b[0m\u001b[0m\n\u001b[0;32m---> 24\u001b[0;31m             \u001b[0mz_cart\u001b[0m \u001b[0;34m=\u001b[0m \u001b[0mcomplex\u001b[0m\u001b[0;34m(\u001b[0m\u001b[0mfloat\u001b[0m\u001b[0;34m(\u001b[0m\u001b[0minput\u001b[0m\u001b[0;34m(\u001b[0m\u001b[0;34m\"Parte real: \"\u001b[0m\u001b[0;34m)\u001b[0m\u001b[0;34m)\u001b[0m\u001b[0;34m,\u001b[0m \u001b[0mfloat\u001b[0m\u001b[0;34m(\u001b[0m\u001b[0minput\u001b[0m\u001b[0;34m(\u001b[0m\u001b[0;34m\"Parte imaginária: \"\u001b[0m\u001b[0;34m)\u001b[0m\u001b[0;34m)\u001b[0m\u001b[0;34m)\u001b[0m\u001b[0;34m\u001b[0m\u001b[0;34m\u001b[0m\u001b[0m\n\u001b[0m\u001b[1;32m     25\u001b[0m             \u001b[0;31m# z_pol = cmath.polar(z_cart)\u001b[0m\u001b[0;34m\u001b[0m\u001b[0;34m\u001b[0m\u001b[0m\n\u001b[1;32m     26\u001b[0m             \u001b[0;31m##################################\u001b[0m\u001b[0;34m\u001b[0m\u001b[0;34m\u001b[0m\u001b[0m\n",
            "\u001b[0;32m/usr/local/lib/python3.10/dist-packages/ipykernel/kernelbase.py\u001b[0m in \u001b[0;36mraw_input\u001b[0;34m(self, prompt)\u001b[0m\n\u001b[1;32m    849\u001b[0m                 \u001b[0;34m\"raw_input was called, but this frontend does not support input requests.\"\u001b[0m\u001b[0;34m\u001b[0m\u001b[0;34m\u001b[0m\u001b[0m\n\u001b[1;32m    850\u001b[0m             )\n\u001b[0;32m--> 851\u001b[0;31m         return self._input_request(str(prompt),\n\u001b[0m\u001b[1;32m    852\u001b[0m             \u001b[0mself\u001b[0m\u001b[0;34m.\u001b[0m\u001b[0m_parent_ident\u001b[0m\u001b[0;34m,\u001b[0m\u001b[0;34m\u001b[0m\u001b[0;34m\u001b[0m\u001b[0m\n\u001b[1;32m    853\u001b[0m             \u001b[0mself\u001b[0m\u001b[0;34m.\u001b[0m\u001b[0m_parent_header\u001b[0m\u001b[0;34m,\u001b[0m\u001b[0;34m\u001b[0m\u001b[0;34m\u001b[0m\u001b[0m\n",
            "\u001b[0;32m/usr/local/lib/python3.10/dist-packages/ipykernel/kernelbase.py\u001b[0m in \u001b[0;36m_input_request\u001b[0;34m(self, prompt, ident, parent, password)\u001b[0m\n\u001b[1;32m    893\u001b[0m             \u001b[0;32mexcept\u001b[0m \u001b[0mKeyboardInterrupt\u001b[0m\u001b[0;34m:\u001b[0m\u001b[0;34m\u001b[0m\u001b[0;34m\u001b[0m\u001b[0m\n\u001b[1;32m    894\u001b[0m                 \u001b[0;31m# re-raise KeyboardInterrupt, to truncate traceback\u001b[0m\u001b[0;34m\u001b[0m\u001b[0;34m\u001b[0m\u001b[0m\n\u001b[0;32m--> 895\u001b[0;31m                 \u001b[0;32mraise\u001b[0m \u001b[0mKeyboardInterrupt\u001b[0m\u001b[0;34m(\u001b[0m\u001b[0;34m\"Interrupted by user\"\u001b[0m\u001b[0;34m)\u001b[0m \u001b[0;32mfrom\u001b[0m \u001b[0;32mNone\u001b[0m\u001b[0;34m\u001b[0m\u001b[0;34m\u001b[0m\u001b[0m\n\u001b[0m\u001b[1;32m    896\u001b[0m             \u001b[0;32mexcept\u001b[0m \u001b[0mException\u001b[0m \u001b[0;32mas\u001b[0m \u001b[0me\u001b[0m\u001b[0;34m:\u001b[0m\u001b[0;34m\u001b[0m\u001b[0;34m\u001b[0m\u001b[0m\n\u001b[1;32m    897\u001b[0m                 \u001b[0mself\u001b[0m\u001b[0;34m.\u001b[0m\u001b[0mlog\u001b[0m\u001b[0;34m.\u001b[0m\u001b[0mwarning\u001b[0m\u001b[0;34m(\u001b[0m\u001b[0;34m\"Invalid Message:\"\u001b[0m\u001b[0;34m,\u001b[0m \u001b[0mexc_info\u001b[0m\u001b[0;34m=\u001b[0m\u001b[0;32mTrue\u001b[0m\u001b[0;34m)\u001b[0m\u001b[0;34m\u001b[0m\u001b[0;34m\u001b[0m\u001b[0m\n",
            "\u001b[0;31mKeyboardInterrupt\u001b[0m: Interrupted by user"
          ]
        }
      ]
    },
    {
      "cell_type": "markdown",
      "source": [
        "# **6) A biblioteca simbólica Sympy**"
      ],
      "metadata": {
        "id": "U2TGmUwaJjce"
      }
    },
    {
      "cell_type": "markdown",
      "source": [
        "***O que é a Computação Simbólica?***\n",
        "\n",
        "- Computação simbólica trata do cálculo simbólico de objetos matemáticos. Isto significa que os objetos matemáticos são representados de forma exata, por meio de expressões matemáticas com variáveis que são deixadas em forma simbólica.\n",
        "\n",
        "- Ao contrário de outros sistemas de manipulação simbólica, as variáveis na SymPy devem ser definidas antes de serem utilizadas\n"
      ],
      "metadata": {
        "id": "0yK0xQCeSJgF"
      }
    },
    {
      "cell_type": "markdown",
      "source": [
        "Links úteis:\n",
        "\n",
        "- <https://docs.sympy.org/latest/tutorials/intro-tutorial/intro.html>\n",
        "- <https://cienciaprogramada.com.br/2022/03/calculo-python-sympy-limite/>"
      ],
      "metadata": {
        "id": "5RwLGD7rm3wo"
      }
    },
    {
      "cell_type": "code",
      "source": [
        "from sympy import * \n",
        "\n",
        "x = symbols(\"x\") \n",
        "theta1 = symbols(\"theta1\")\n",
        "\n",
        "# Isto fará com que todos os outros exemplos fiquem bem impressos com caracteres unicode.\n",
        "init_printing(use_unicode=True)\n",
        "\n",
        "# Derivada sen(x)*e^x\n",
        "f = sin(x)*exp(x)\n",
        "diff(f, x)\n",
        "\n",
        "# Integral indefinida\n",
        "f = exp(x)*sin(x) + exp(x)*cos(x)\n",
        "integrate(f, x)\n",
        "\n",
        "# Integral definida\n",
        "f = sin(x**2)\n",
        "integrate(f, (x, -oo, oo))\n",
        "\n",
        "# Limites\n",
        "limit(sin(x)/x, x, 0)"
      ],
      "metadata": {
        "id": "er3doq70Jsh1"
      },
      "execution_count": null,
      "outputs": []
    },
    {
      "cell_type": "code",
      "source": [],
      "metadata": {
        "id": "5mClZb6NfCRY"
      },
      "execution_count": null,
      "outputs": []
    },
    {
      "cell_type": "code",
      "source": [
        "f = sin(x**2)\n",
        "#round(float(integrate(f, (x, -oo, oo))),3)\n",
        "#limit(sin(x)/x, x, -oo)\n",
        "lista = fourier_series(x**2, (x, -pi, pi))\n",
        "\n",
        "k=0\n",
        "for i in lista:\n",
        "    print(i)\n",
        "    k += 1\n",
        "    if(k == 20):\n",
        "        break"
      ],
      "metadata": {
        "colab": {
          "base_uri": "https://localhost:8080/"
        },
        "id": "6PE79UJKceyy",
        "outputId": "c01f9301-a659-4f30-ba70-f9753c93b9f3"
      },
      "execution_count": null,
      "outputs": [
        {
          "output_type": "stream",
          "name": "stdout",
          "text": [
            "pi**2/3\n",
            "-4*cos(x)\n",
            "cos(2*x)\n",
            "-4*cos(3*x)/9\n",
            "cos(4*x)/4\n",
            "-4*cos(5*x)/25\n",
            "cos(6*x)/9\n",
            "-4*cos(7*x)/49\n",
            "cos(8*x)/16\n",
            "-4*cos(9*x)/81\n",
            "cos(10*x)/25\n",
            "-4*cos(11*x)/121\n",
            "cos(12*x)/36\n",
            "-4*cos(13*x)/169\n",
            "cos(14*x)/49\n",
            "-4*cos(15*x)/225\n",
            "cos(16*x)/64\n",
            "-4*cos(17*x)/289\n",
            "cos(18*x)/81\n",
            "-4*cos(19*x)/361\n"
          ]
        }
      ]
    },
    {
      "cell_type": "code",
      "source": [
        "t, s = symbols('t, s')\n",
        "a = symbols('a', real=True, positive=True)\n",
        "f = exp(-a*t)\n",
        "\n",
        "laplace_transform(f, t, s)\n",
        "#laplace_transform(f*exp(-s*t), (t, 0, oo))"
      ],
      "metadata": {
        "colab": {
          "base_uri": "https://localhost:8080/",
          "height": 58
        },
        "id": "d3fmLiIqgj2q",
        "outputId": "1c0d1387-d187-4e39-a68f-4c6043ebebe2"
      },
      "execution_count": null,
      "outputs": [
        {
          "output_type": "execute_result",
          "data": {
            "text/plain": [
              "⎛  1            ⎞\n",
              "⎜─────, -a, True⎟\n",
              "⎝a + s          ⎠"
            ],
            "text/latex": "$\\displaystyle \\left( \\frac{1}{a + s}, \\  - a, \\  \\text{True}\\right)$"
          },
          "metadata": {},
          "execution_count": 154
        }
      ]
    },
    {
      "cell_type": "code",
      "source": [
        "from sympy.plotting import plot\n",
        "\n",
        "f = 1 / x\n",
        "\n",
        "plot(f, (x, -10, 10), ylim=(-10, 10));"
      ],
      "metadata": {
        "id": "3A25SaRtmMaC"
      },
      "execution_count": null,
      "outputs": []
    },
    {
      "cell_type": "code",
      "source": [
        "g = sin(x) / x\n",
        "\n",
        "plot(g, (x, -30, 30));"
      ],
      "metadata": {
        "id": "DFUG8i1zmhHj"
      },
      "execution_count": null,
      "outputs": []
    },
    {
      "cell_type": "code",
      "source": [
        "h = sin(x)**2 / x\n",
        "\n",
        "plot(h, (x, -30, 30));"
      ],
      "metadata": {
        "id": "iW1xeoQAmlMK"
      },
      "execution_count": null,
      "outputs": []
    },
    {
      "cell_type": "code",
      "source": [
        "# Resolvendo equações\n",
        "f = x**3 - 2\n",
        "\n",
        "lista = (solve(f, x))\n",
        "\n",
        "lista[0]"
      ],
      "metadata": {
        "id": "duzB2mHkmzGY",
        "colab": {
          "base_uri": "https://localhost:8080/",
          "height": 38
        },
        "outputId": "ef609d74-d577-472a-d162-1eba63256495"
      },
      "execution_count": null,
      "outputs": [
        {
          "output_type": "execute_result",
          "data": {
            "text/plain": [
              "3 ___\n",
              "╲╱ 2 "
            ],
            "text/latex": "$\\displaystyle \\sqrt[3]{2}$"
          },
          "metadata": {},
          "execution_count": 169
        }
      ]
    },
    {
      "cell_type": "code",
      "source": [
        "# Resolução de sistemas lineares\n",
        "\n",
        "A = [[1.0, -1, 2],\n",
        "    [-1, 1, -1], \n",
        "    [3, 5, 7]]\n",
        "\n",
        "A = np.asarray(A, dtype=float)\n",
        "\n",
        "b = [[5], [-3.0], [1]]\n",
        "#b = [5, -3, 1]\n",
        "b = np.asarray(b, dtype=float)\n",
        "#print(b.shape)\n",
        "\n",
        "#print(A)\n",
        "#print(np.linalg.inv(A))\n",
        "\n",
        "x =   ((np.linalg.inv(A)).dot(b))\n",
        "#x =   np.dot(np.linalg.inv(A), b)\n",
        "#x = np.matmul(np.linalg.inv(A), b)\n",
        "print(type(x))\n",
        "x"
      ],
      "metadata": {
        "colab": {
          "base_uri": "https://localhost:8080/"
        },
        "id": "uPWk7Z70jBvr",
        "outputId": "55000e0c-7531-46d3-b6fe-e9db0444ee85"
      },
      "execution_count": null,
      "outputs": [
        {
          "output_type": "stream",
          "name": "stdout",
          "text": [
            "<class 'numpy.ndarray'>\n"
          ]
        },
        {
          "output_type": "execute_result",
          "data": {
            "text/plain": [
              "array([[-1.],\n",
              "       [-2.],\n",
              "       [ 2.]])"
            ]
          },
          "metadata": {},
          "execution_count": 216
        }
      ]
    },
    {
      "cell_type": "code",
      "source": [
        "# Cálculo dos autovalores\n",
        "\n",
        "Matrix([[1, 2], [2, 2]]).eigenvals()"
      ],
      "metadata": {
        "id": "iYWIB120npXr"
      },
      "execution_count": null,
      "outputs": []
    },
    {
      "cell_type": "code",
      "source": [
        "expr = x + 2*y\n",
        "print(expr)\n",
        "\n",
        "expr + 1\n",
        "print(expr)\n",
        "\n",
        "expr - x\n",
        "print(expr)\n",
        "\n",
        "expr - x\n",
        "print(expr)\n",
        "\n"
      ],
      "metadata": {
        "id": "JQHcbWjjoQga"
      },
      "execution_count": null,
      "outputs": []
    },
    {
      "cell_type": "markdown",
      "source": [
        "# **7) Gráficos**"
      ],
      "metadata": {
        "id": "mxYYAk0JFBTd"
      }
    },
    {
      "cell_type": "markdown",
      "source": [
        "Links úteis:\n",
        "- <https://gepac.github.io/2019-05-17-intro-matplotlib/>\n",
        "- <https://seaborn.pydata.org/tutorial/introduction>\n",
        "- <https://colab.research.google.com/github/jakevdp/PythonDataScienceHandbook/blob/master/notebooks/04.14-Visualization-With-Seaborn.ipynb>\n"
      ],
      "metadata": {
        "id": "BDmBeHXW1_78"
      }
    },
    {
      "cell_type": "markdown",
      "source": [
        "###Matplotlib"
      ],
      "metadata": {
        "id": "MBiOxW-3unQg"
      }
    },
    {
      "cell_type": "code",
      "source": [
        "plt.plot(x, y, formato)\n",
        "\n",
        "x = np.linspace(0, 2, 21) # 21 pontos no intervalo [0, 2]\n",
        "plt.plot(x, x)            # função y = x\n",
        "plt.plot(x, x**2)         # função y = x^2\n",
        "plt.plot(x, x**3)         # função y = x^3\n",
        "plt.show()"
      ],
      "metadata": {
        "id": "WOwMg2O9mvoJ"
      },
      "execution_count": null,
      "outputs": []
    },
    {
      "cell_type": "code",
      "source": [
        "x = np.linspace(0, 2, 21)\n",
        "plt.plot(x, x, 'b--', label='linear')\n",
        "plt.plot(x, x**2, 'go', label='quadrático')"
      ],
      "metadata": {
        "colab": {
          "base_uri": "https://localhost:8080/",
          "height": 447
        },
        "id": "wPpIbfVnbrpH",
        "outputId": "24f0da04-ccf8-485c-9aa8-467024ff2b3f"
      },
      "execution_count": null,
      "outputs": [
        {
          "output_type": "execute_result",
          "data": {
            "text/plain": [
              "[<matplotlib.lines.Line2D at 0x7f3903f50490>]"
            ]
          },
          "metadata": {},
          "execution_count": 125
        },
        {
          "output_type": "display_data",
          "data": {
            "text/plain": [
              "<Figure size 640x480 with 1 Axes>"
            ],
            "image/png": "[encoded data removed]"
          },
          "metadata": {}
        }
      ]
    },
    {
      "cell_type": "markdown",
      "source": [
        "X é uma sequência de coordenadas horizontais: pode ser uma tupla, uma lista ou um array unidimensional. \n",
        "\n",
        "Analogamente, y é uma sequência de coordenadas verticais. As sequências devem ter o mesmo tamanho. \n",
        "\n",
        "O parâmetro formato é opcional e deve ser uma string especificando rapidamente o estilo do gráfico (por exemplo: incluindo os caracteres r, g ou b o gráfico fica com cor vermelha, verde ou azul; - indica uma linha sólida e -- uma linha tracejada; o, s e ^ fazem marcadores em cima de cada ponto com formato de bolinha, quadrado ou triângulo). \n",
        "\n",
        "Por padrão o gráfico é feito com uma linha sólida ligando os pontos especificados. É possível passar parâmetros adicionais; veja a documentação para uma discussão detalhada."
      ],
      "metadata": {
        "id": "YJY2osLxnSPR"
      }
    },
    {
      "cell_type": "code",
      "source": [
        "x = np.linspace(0, 2, 21)\n",
        "plt.plot(x, x, 'b--', label='linear')\n",
        "plt.plot(x, x**2, 'go', label='quadrático')\n",
        "plt.plot(x, x**3, 'r^', label='cúbico')\n",
        "plt.xlabel('teste x')\n",
        "plt.ylabel('teste y')\n",
        "plt.title('Gráfico simples')\n",
        "plt.legend()\n",
        "plt.grid()\n",
        "plt.show()"
      ],
      "metadata": {
        "id": "FmxhpHNqnriJ"
      },
      "execution_count": null,
      "outputs": []
    },
    {
      "cell_type": "code",
      "source": [
        "plt.axes(projection='polar')\n"
      ],
      "metadata": {
        "id": "8UT5tunyuUyi"
      },
      "execution_count": null,
      "outputs": []
    },
    {
      "cell_type": "markdown",
      "source": [
        "#Referências\n",
        "\n",
        "- https://colab.research.google.com/drive/1etZqgaWryKoXYGpOy7n2i0e9fhOTzrTs?usp=sharing\n",
        "- https://edisciplinas.usp.br/acessar/\n",
        "- https://developers.google.com/machine-learning/crash-course?hl=pt-br\n",
        "- https://colab.research.google.com/github/google/eng-edu/blob/main/ml/cc/exercises/numpy_ultraquick_tutorial.ipynb?hl=en\n",
        "- https://github.com/google/eng-edu/blob/main/ml/cc/exercises/pandas_dataframe_ultraquick_tutorial.ipynb\n",
        "- https://towardsdatascience.com/top-10-matrix-operations-in-numpy-with-examples-d761448cb7a8\n",
        "- https://towardsdatascience.com/diving-into-numpy-b92abfd7a00f"
      ],
      "metadata": {
        "id": "cgVujpa6iQ0U"
      }
    }
  ]
}