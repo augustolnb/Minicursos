{
  "nbformat": 4,
  "nbformat_minor": 0,
  "metadata": {
    "colab": {
      "provenance": [],
      "authorship_tag": "ABX9TyMOGptr74ebHu3UvVvq01Hw",
      "include_colab_link": true
    },
    "kernelspec": {
      "name": "python3",
      "display_name": "Python 3"
    },
    "language_info": {
      "name": "python"
    }
  },
  "cells": [
    {
      "cell_type": "markdown",
      "metadata": {
        "id": "view-in-github",
        "colab_type": "text"
      },
      "source": [
        "<a href=\"https://colab.research.google.com/github/augustolnb/Minicursos/blob/main/minicurso_python_para_engenharia.ipynb\" target=\"_parent\"><img src=\"https://colab.research.google.com/assets/colab-badge.svg\" alt=\"Open In Colab\"/></a>"
      ]
    },
    {
      "cell_type": "markdown",
      "source": [
        "**Conteúdo programático**\n",
        "\n",
        "- Comandos básicos - if/else, for, while, print, input\n",
        "- O básico sobre formatação - int, float, string, array\n",
        "- Operadores algébricos e lógicos\n",
        "- Matrizes e gráficos\n",
        "- Bibliotecas úteis [numpy, scipy, math]\n",
        "- Biblioteca symbolic (derivada e integral)\n",
        "\n",
        "\n",
        "\n",
        "*Links úteis*\n",
        "\n",
        "- *https://www.facom.ufu.br/~william/Disciplinas%202019-1/BIOTCH-GBT017-IntoducaoInformatica/285173966-aprendendo-python-pdf.pdf*\n",
        "\n",
        "\n",
        "- *https://acristoffers.me/Python3.pdf*"
      ],
      "metadata": {
        "id": "c1KchBDQOkJz"
      }
    },
    {
      "cell_type": "markdown",
      "source": [
        "#### Comandos básicos de entrada e saída de dados\n"
      ],
      "metadata": {
        "id": "qcTuiDctXH17"
      }
    },
    {
      "cell_type": "code",
      "execution_count": null,
      "metadata": {
        "id": "dmuSdftSOfZQ",
        "colab": {
          "base_uri": "https://localhost:8080/"
        },
        "outputId": "d7d26b94-137e-49af-a8cc-010b3ccb8c89"
      },
      "outputs": [
        {
          "output_type": "stream",
          "name": "stdout",
          "text": [
            "Digite seu nome: megatron\n",
            "Hello World, megatron !\n"
          ]
        }
      ],
      "source": [
        "nome = input(\"Digite seu nome: \")\n",
        "\n",
        "print(\"Hello World, {} !\".format(nome))\n"
      ]
    },
    {
      "cell_type": "markdown",
      "source": [
        "#### Operadores lógicos e matemáticos"
      ],
      "metadata": {
        "id": "tr75juP7YI-l"
      }
    },
    {
      "cell_type": "code",
      "source": [
        "print(\"\\tCalculadora que faz soma de dois valores\\n\")\n",
        "\n",
        "n1 = input(\"Entre com o primeiro número: \")\n",
        "n2 = input(\"Entre com o segundo número: \")\n",
        "\n",
        "print(\"O resultado da soma {} + {} = {}\".format(n1, n2, n1+n2))"
      ],
      "metadata": {
        "colab": {
          "base_uri": "https://localhost:8080/"
        },
        "id": "ro2TsPgDYO87",
        "outputId": "4ab66d39-95c8-4944-8baf-9800472ee17f"
      },
      "execution_count": null,
      "outputs": [
        {
          "output_type": "stream",
          "name": "stdout",
          "text": [
            "\tCalculadora que faz soma de dois valores\n",
            "\n",
            "Entre com o primeiro número: 5\n",
            "Entre com o segundo número: 3\n",
            "O resultado da soma 5 + 3 = 53\n"
          ]
        }
      ]
    },
    {
      "cell_type": "code",
      "source": [
        "print(\"\\tImprime apenas os números maiores que 10\\n\")\n",
        "\n",
        "numero = input(\"Digite um número: \")\n",
        "\n",
        "if(numero >= 10):\n",
        "    print(\"O número é : {}\".format(numero))\n",
        "\n",
        "else:\n",
        "    print(\"O número é menor que 10\")"
      ],
      "metadata": {
        "colab": {
          "base_uri": "https://localhost:8080/"
        },
        "id": "p8LEK8oqZqRn",
        "outputId": "0124bd18-f97f-439f-a269-37c7ab49d8e7"
      },
      "execution_count": null,
      "outputs": [
        {
          "output_type": "stream",
          "name": "stdout",
          "text": [
            "\tImprime apenas os números maiores que 10\n",
            "\n",
            "Digite um número: 12\n",
            "O número é : 12\n"
          ]
        }
      ]
    },
    {
      "cell_type": "code",
      "source": [
        "print(\"\\tExemplo de contador com o laço while\\n\")\n",
        "\n",
        "iteracoes = input(\"Digite a quatidade de iterações que deseja fazer: \")\n",
        "\n",
        "i = 0\n",
        "while i <= iteracoes:\n",
        "    print(\"{}ª Iteração\".format(iteracoes))\n",
        "    i += 1"
      ],
      "metadata": {
        "colab": {
          "base_uri": "https://localhost:8080/"
        },
        "id": "gj2HjHAbamrL",
        "outputId": "4c10a742-abb0-495f-e987-d640267a9a3b"
      },
      "execution_count": null,
      "outputs": [
        {
          "output_type": "stream",
          "name": "stdout",
          "text": [
            "Exemplo de contador com o laço while\n",
            "Digite a quatidade de iterações que deseja fazer: 6\n",
            "1ª Iteração\n",
            "2ª Iteração\n",
            "3ª Iteração\n",
            "4ª Iteração\n",
            "5ª Iteração\n",
            "6ª Iteração\n"
          ]
        }
      ]
    },
    {
      "cell_type": "code",
      "source": [
        "print(\"\\tCriando o primeiro laço for\\n\")\n",
        "\n",
        "iteracoes = input(\"Quantas iteracoes o laço deve realizar?\")\n",
        "\n",
        "for i in range(iteracoes):\n",
        "    print(\"Funcionou {}x\".format(i))"
      ],
      "metadata": {
        "colab": {
          "base_uri": "https://localhost:8080/"
        },
        "id": "Rp50r59ZboLH",
        "outputId": "6d2228bc-9280-4e24-a2cd-9ca96244fdca"
      },
      "execution_count": null,
      "outputs": [
        {
          "output_type": "stream",
          "name": "stdout",
          "text": [
            "\tCriando o primeiro laço for\n",
            "\n",
            "Quantas iteracoes o laço deve realizar?10\n",
            "Funcionou 1x\n",
            "Funcionou 2x\n",
            "Funcionou 3x\n",
            "Funcionou 4x\n",
            "Funcionou 5x\n",
            "Funcionou 6x\n",
            "Funcionou 7x\n",
            "Funcionou 8x\n",
            "Funcionou 9x\n",
            "Funcionou 10x\n"
          ]
        }
      ]
    },
    {
      "cell_type": "markdown",
      "source": [
        "#### Matemática computacional com Numpy"
      ],
      "metadata": {
        "id": "rOosFiJJcnAp"
      }
    },
    {
      "cell_type": "code",
      "source": [
        "# importa a biblioteca numpy e \"apelida\" essa biblioteca de np\n",
        "import numpy as np "
      ],
      "metadata": {
        "id": "HUBEJsFkcuTl"
      },
      "execution_count": 1,
      "outputs": []
    },
    {
      "cell_type": "code",
      "source": [
        "# O método `np.array` cria um array numpy com seus próprios valores.\n",
        "one_dimensional_array = np.array([1.2, 2.4, 3.5, 4.7, 6.1, 7.2, 8.3, 9.5])\n",
        "print(one_dimensional_array)\n",
        "print(\"\\n\\n\")\n",
        "two_dimensional_array = np.array([[6, 5], [11, 7], [4, 8]])\n",
        "print(two_dimensional_array)"
      ],
      "metadata": {
        "colab": {
          "base_uri": "https://localhost:8080/"
        },
        "id": "Xow1qXbTc25K",
        "outputId": "8a92f325-b860-40ba-f8d6-02da66b4454d"
      },
      "execution_count": null,
      "outputs": [
        {
          "output_type": "stream",
          "name": "stdout",
          "text": [
            "[1.2 2.4 3.5 4.7 6.1 7.2 8.3 9.5]\n",
            "\n",
            "\n",
            "\n",
            "[[ 6  5]\n",
            " [11  7]\n",
            " [ 4  8]]\n"
          ]
        }
      ]
    },
    {
      "cell_type": "code",
      "source": [
        "# Também é possível preencher um array com um sequência de números utilizando o método arange()\n",
        "sequence_of_integers = np.arange(5, 12)\n",
        "print(sequence_of_integers)\n",
        "\n",
        "print(\"\\n\\n\\n\")\n",
        "\n",
        "# Preenchendo arrays com valores aleátorios\n",
        "\n",
        "random_integers_between_50_and_100 = np.random.randint(low=50, high=101, size=(6))\n",
        "print(\"Números aleatórios entre 50 e 100: \")\n",
        "print(random_integers_between_50_and_100)\n",
        "print(\"\\n\")\n",
        "print(\"Números aleatórios entre 0 e 1: \")\n",
        "random_floats_between_0_and_1 = np.random.random([6])\n",
        "print(random_floats_between_0_and_1) "
      ],
      "metadata": {
        "colab": {
          "base_uri": "https://localhost:8080/"
        },
        "id": "yY-ZSjF5dXrw",
        "outputId": "391c87a6-0e19-471c-bd9d-938e4ec3f23a"
      },
      "execution_count": null,
      "outputs": [
        {
          "output_type": "stream",
          "name": "stdout",
          "text": [
            "[ 5  6  7  8  9 10 11]\n",
            "\n",
            "\n",
            "\n",
            "\n",
            "Números aleatórios entre 50 e 100: \n",
            "[84 59 91 98 92 79]\n",
            "\n",
            "\n",
            "Números aleatórios entre 0 e 1: \n",
            "[0.39324895 0.26207961 0.67601699 0.26928658 0.60992404 0.54384921]\n"
          ]
        }
      ]
    },
    {
      "cell_type": "markdown",
      "source": [
        "Se você quiser adicionar ou subtrair dois arrays, a álgebra linear requer que os dois operandos tenham as mesmas dimensões. Além disso, se você quiser multiplicar dois arrays, a álgebra linear impõe regras estritas sobre a compatibilidade dimensional dos operandos. Felizmente, a NumPy usa um truque chamado *broadcast* para virtualmente expandir o operando menor para dimensões compatíveis para a álgebra linear."
      ],
      "metadata": {
        "id": "4gUkvwA8ehdw"
      }
    },
    {
      "cell_type": "code",
      "source": [
        "random_floats_between_2_and_3 = random_floats_between_0_and_1 + 2.0\n",
        "print(random_floats_between_2_and_3)"
      ],
      "metadata": {
        "colab": {
          "base_uri": "https://localhost:8080/"
        },
        "id": "ivXC9tBjeU0e",
        "outputId": "d694622f-99ea-4012-9bf4-4631b0855f31"
      },
      "execution_count": null,
      "outputs": [
        {
          "output_type": "stream",
          "name": "stdout",
          "text": [
            "[2.39324895 2.26207961 2.67601699 2.26928658 2.60992404 2.54384921]\n"
          ]
        }
      ]
    },
    {
      "cell_type": "code",
      "source": [
        "random_integers_between_150_and_300 = random_integers_between_50_and_100 * 3\n",
        "print(random_integers_between_150_and_300)"
      ],
      "metadata": {
        "colab": {
          "base_uri": "https://localhost:8080/"
        },
        "id": "KfSC88bVe5sd",
        "outputId": "565e0efb-7ba1-4979-9644-2f102adebd18"
      },
      "execution_count": null,
      "outputs": [
        {
          "output_type": "stream",
          "name": "stdout",
          "text": [
            "[252 177 273 294 276 237]\n"
          ]
        }
      ]
    },
    {
      "cell_type": "markdown",
      "source": [
        "#### Desafio 1:\n",
        "\n",
        "- Montar uma calculadora para converter valores de cartesiano para polar"
      ],
      "metadata": {
        "id": "cn15TJwRfYVW"
      }
    },
    {
      "cell_type": "code",
      "source": [
        "# Implementar calculadora polar <-> cartesiano\n",
        "\n",
        "def pol2rec(amp, fase):\n",
        "    amp = float(amp)\n",
        "    fase = float(fase)\n",
        "    real = amp*np.cos(fase/180*np.pi)\n",
        "    imag = amp*np.sin(fase/180*np.pi)\n",
        "    return complex(round(real,2),round(imag,2))\n",
        "\n",
        "def rec2pol(real, imag):\n",
        "    real = float(real)\n",
        "    imag = float(imag)\n",
        "    amp = np.sqrt(real**2 + imag**2)\n",
        "    fase = np.arctan(imag/real)*180/np.pi\n",
        "    # consertar retorno duplo e indexar os valores no mesmo formato\n",
        "    return float(round(amp,2)), float(round(fase,2))\n"
      ],
      "metadata": {
        "id": "KMvvGQcQjRnB"
      },
      "execution_count": 2,
      "outputs": []
    },
    {
      "cell_type": "code",
      "source": [
        "import os\n",
        "from google.colab import output\n",
        "\n",
        "while True:\n",
        "    print(\"\\tConversão entre as coordenadas polar e cartesiana.\\n\")\n",
        "    op = int(input(\"Escolha a conversão:\\n1: Polar -> Cartesiano\\n2: Cartesiano -> Polar\\n3: Sair\\n\\n\"))\n",
        "\n",
        "    if(op == 1):\n",
        "        print(\"Entre com os valores de amplitude e fase: \")\n",
        "        amplitude = float(input(\"Amplitude: \"))\n",
        "        fase = float(input(\"Fase: \"))\n",
        "        coord_cart = pol2rec(amplitude, fase)\n",
        "        print(\"{}\".format(coord_cart))\n",
        "        input(\"\\nPressione para continuar\\n\")\n",
        "\n",
        "    elif(op == 2):\n",
        "        print(\"Entre com as partes do número complexo: \")\n",
        "        real = float(input(\"Parte real: \"))\n",
        "        imaginaria = float(input(\"Parte imaginária: \"))\n",
        "        amp, fase = rec2pol(real, imaginaria)\n",
        "        print(\"\\nAmplitude: {}\\nFase: {}º\".format(amp, fase))\n",
        "        input(\"\\n   Pressione para continuar\\n\")\n",
        "\n",
        "    elif(op == 3):\n",
        "        break\n",
        "\n",
        "    else: \n",
        "        print(\"Entre com uma opção válida\")\n",
        "    \n",
        "    output.clear()\n"
      ],
      "metadata": {
        "id": "Zr0ARf4ZxmIl",
        "colab": {
          "base_uri": "https://localhost:8080/",
          "height": 443
        },
        "outputId": "136b1c0e-cc49-4054-c75b-d48ffb97c741"
      },
      "execution_count": 11,
      "outputs": [
        {
          "output_type": "stream",
          "name": "stdout",
          "text": [
            "\tConversão entre as coordenadas polar e cartesiana.\n",
            "\n",
            "Escolha a conversão:\n",
            "1: Polar -> Cartesiano\n",
            "2: Cartesiano -> Polar\n",
            "3: Sair\n",
            "\n",
            "1\n",
            "Entre com os valores de amplitude e fase: \n",
            "Amplitude: 1\n",
            "Fase: 25\n",
            "(0.91+0.42j)\n"
          ]
        },
        {
          "output_type": "error",
          "ename": "TypeError",
          "evalue": "ignored",
          "traceback": [
            "\u001b[0;31m---------------------------------------------------------------------------\u001b[0m",
            "\u001b[0;31mTypeError\u001b[0m                                 Traceback (most recent call last)",
            "\u001b[0;32m<ipython-input-11-767591021242>\u001b[0m in \u001b[0;36m<cell line: 5>\u001b[0;34m()\u001b[0m\n\u001b[1;32m     12\u001b[0m         \u001b[0mcoord_cart\u001b[0m \u001b[0;34m=\u001b[0m \u001b[0mpol2rec\u001b[0m\u001b[0;34m(\u001b[0m\u001b[0mamplitude\u001b[0m\u001b[0;34m,\u001b[0m \u001b[0mfase\u001b[0m\u001b[0;34m)\u001b[0m\u001b[0;34m\u001b[0m\u001b[0;34m\u001b[0m\u001b[0m\n\u001b[1;32m     13\u001b[0m         \u001b[0mprint\u001b[0m\u001b[0;34m(\u001b[0m\u001b[0;34m\"{}\"\u001b[0m\u001b[0;34m.\u001b[0m\u001b[0mformat\u001b[0m\u001b[0;34m(\u001b[0m\u001b[0mcoord_cart\u001b[0m\u001b[0;34m)\u001b[0m\u001b[0;34m)\u001b[0m\u001b[0;34m\u001b[0m\u001b[0;34m\u001b[0m\u001b[0m\n\u001b[0;32m---> 14\u001b[0;31m         \u001b[0minput\u001b[0m\u001b[0;34m(\u001b[0m\u001b[0;34m\"\\nPressione para continuar\"\u001b[0m\u001b[0;34m,\u001b[0m \u001b[0mstate\u001b[0m\u001b[0;34m=\u001b[0m\u001b[0;34m\"disabled\"\u001b[0m\u001b[0;34m)\u001b[0m \u001b[0;31m# desabilitar input box\u001b[0m\u001b[0;34m\u001b[0m\u001b[0;34m\u001b[0m\u001b[0m\n\u001b[0m\u001b[1;32m     15\u001b[0m \u001b[0;34m\u001b[0m\u001b[0m\n\u001b[1;32m     16\u001b[0m     \u001b[0;32melif\u001b[0m\u001b[0;34m(\u001b[0m\u001b[0mop\u001b[0m \u001b[0;34m==\u001b[0m \u001b[0;36m2\u001b[0m\u001b[0;34m)\u001b[0m\u001b[0;34m:\u001b[0m\u001b[0;34m\u001b[0m\u001b[0;34m\u001b[0m\u001b[0m\n",
            "\u001b[0;31mTypeError\u001b[0m: raw_input() got an unexpected keyword argument 'state'"
          ]
        }
      ]
    },
    {
      "cell_type": "markdown",
      "source": [
        "#### Biblioteca Sympy"
      ],
      "metadata": {
        "id": "JNqK_GlhfHoc"
      }
    },
    {
      "cell_type": "code",
      "source": [
        "!pip install sympy\n",
        "\n",
        "import sympy as sp"
      ],
      "metadata": {
        "id": "ENmYK3p7fGy9",
        "colab": {
          "base_uri": "https://localhost:8080/"
        },
        "outputId": "827cff31-c47f-4ab9-d6a0-6485bd8cd944"
      },
      "execution_count": 10,
      "outputs": [
        {
          "output_type": "stream",
          "name": "stdout",
          "text": [
            "Looking in indexes: https://pypi.org/simple, https://us-python.pkg.dev/colab-wheels/public/simple/\n",
            "Requirement already satisfied: sympy in /usr/local/lib/python3.9/dist-packages (1.11.1)\n",
            "Requirement already satisfied: mpmath>=0.19 in /usr/local/lib/python3.9/dist-packages (from sympy) (1.3.0)\n"
          ]
        }
      ]
    }
  ]
}